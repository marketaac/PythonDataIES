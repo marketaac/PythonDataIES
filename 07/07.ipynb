{
 "cells": [
  {
   "cell_type": "markdown",
   "metadata": {},
   "source": [
    "# Lecture 07\n",
    "\n",
    "by Martin Hronec\n",
    "\n",
    "### Table of contents\n",
    "\n",
    "0. [Advanced Pandas](#AdvPandas)\n",
    "1. [Merge, join and concatenate](#merge)\n",
    "2. [Reshaping](#reshape)\n",
    "3. [Split-apply-combine](#groupby)\n",
    "4. [Git collaboration](#gitco)"
   ]
  },
  {
   "cell_type": "code",
   "execution_count": 1,
   "metadata": {},
   "outputs": [],
   "source": [
    "import pandas as pd\n",
    "import numpy as np\n",
    "import os"
   ]
  },
  {
   "cell_type": "code",
   "execution_count": 4,
   "metadata": {},
   "outputs": [
    {
     "name": "stderr",
     "output_type": "stream",
     "text": [
      "b'Skipping line 1017: expected 21 fields, saw 22\\nSkipping line 2087: expected 21 fields, saw 22\\nSkipping line 2447: expected 21 fields, saw 22\\nSkipping line 2736: expected 21 fields, saw 22\\nSkipping line 2828: expected 21 fields, saw 23\\nSkipping line 3461: expected 21 fields, saw 24\\nSkipping line 3645: expected 21 fields, saw 24\\nSkipping line 4490: expected 21 fields, saw 23\\n'\n",
      "b'Skipping line 1816: expected 21 fields, saw 22\\nSkipping line 1877: expected 21 fields, saw 22\\nSkipping line 3253: expected 21 fields, saw 24\\nSkipping line 3270: expected 21 fields, saw 22\\nSkipping line 3329: expected 21 fields, saw 22\\n'\n",
      "b'Skipping line 7136: expected 21 fields, saw 23\\n'\n",
      "b'Skipping line 4890: expected 21 fields, saw 22\\nSkipping line 8304: expected 21 fields, saw 22\\nSkipping line 8358: expected 21 fields, saw 22\\n'\n",
      "b'Skipping line 1145: expected 21 fields, saw 22\\nSkipping line 1512: expected 21 fields, saw 22\\n'\n",
      "b'Skipping line 279: expected 21 fields, saw 22\\nSkipping line 4057: expected 21 fields, saw 22\\n'\n"
     ]
    }
   ],
   "source": [
    "# prepare empty dataframe that will be populated file-by-file\n",
    "df_all = pd.DataFrame(columns = ['number', 'course_code', 'course_title', 'teachers', 'seminar_leaders',\n",
    "       'q1', 'q2', 'q3', 'q4', 'q5', 'q6', 'q7', 'q8', 'q9', 'q10', 'q11',\n",
    "       'q12', 'q13', 'c_value', 'c_improve', 'department_code', 'year',\n",
    "       'semester'])\n",
    "\n",
    "# columns will be czech, so let's rename them\n",
    "columns_translation = {'cislo_dot' : 'number',\n",
    "                    'kod_predm' : 'course_code',\n",
    "                    'nazev_predm' : 'course_title',\n",
    "                    'prednasejici' : 'teachers',\n",
    "                    'cvicici' : 'seminar_leaders',\n",
    "                    't1': 'c_value',\n",
    "                    't2': 'c_improve', \n",
    "                    'katedra_code' : 'department_code'}\n",
    "\n",
    "# data really start only in later years\n",
    "for d in os.listdir('unzipped_data/')[0:]:\n",
    "    try:\n",
    "        year, semester = d.split('_')[1], d.split('_')[2][:2]\n",
    "        df_temp = pd.read_csv('unzipped_data/' + d, sep = ';',\n",
    "                              header = 0, error_bad_lines=False)\n",
    "        df_temp = df_temp.rename(columns = columns_translation)\n",
    "        # df_temp.dropna(how = 'all', inplace = True, axis = 1)\n",
    "        df_temp['year'] = int(year)\n",
    "        df_temp['semester'] = semester\n",
    "        df_all = df_all.append(df_temp)\n",
    "    except:\n",
    "        print(d + ' has name not in the expected format.')\n",
    "        pass        "
   ]
  },
  {
   "cell_type": "code",
   "execution_count": 6,
   "metadata": {},
   "outputs": [
    {
     "data": {
      "text/html": [
       "<div>\n",
       "<style scoped>\n",
       "    .dataframe tbody tr th:only-of-type {\n",
       "        vertical-align: middle;\n",
       "    }\n",
       "\n",
       "    .dataframe tbody tr th {\n",
       "        vertical-align: top;\n",
       "    }\n",
       "\n",
       "    .dataframe thead th {\n",
       "        text-align: right;\n",
       "    }\n",
       "</style>\n",
       "<table border=\"1\" class=\"dataframe\">\n",
       "  <thead>\n",
       "    <tr style=\"text-align: right;\">\n",
       "      <th></th>\n",
       "      <th>number</th>\n",
       "      <th>course_code</th>\n",
       "      <th>course_title</th>\n",
       "      <th>teachers</th>\n",
       "      <th>seminar_leaders</th>\n",
       "      <th>q1</th>\n",
       "      <th>q2</th>\n",
       "      <th>q3</th>\n",
       "      <th>q4</th>\n",
       "      <th>q5</th>\n",
       "      <th>...</th>\n",
       "      <th>q9</th>\n",
       "      <th>q10</th>\n",
       "      <th>q11</th>\n",
       "      <th>q12</th>\n",
       "      <th>q13</th>\n",
       "      <th>c_value</th>\n",
       "      <th>c_improve</th>\n",
       "      <th>department_code</th>\n",
       "      <th>year</th>\n",
       "      <th>semester</th>\n",
       "    </tr>\n",
       "  </thead>\n",
       "  <tbody>\n",
       "    <tr>\n",
       "      <td>0</td>\n",
       "      <td>1</td>\n",
       "      <td>JSB008</td>\n",
       "      <td>Dějiny sociologie II.</td>\n",
       "      <td>Šanderová</td>\n",
       "      <td>Horák</td>\n",
       "      <td>3.0</td>\n",
       "      <td>3.0</td>\n",
       "      <td>4.0</td>\n",
       "      <td>4.0</td>\n",
       "      <td>3.0</td>\n",
       "      <td>...</td>\n",
       "      <td>4.0</td>\n",
       "      <td>4.0</td>\n",
       "      <td>3.0</td>\n",
       "      <td>4.0</td>\n",
       "      <td>3.0</td>\n",
       "      <td>NaN</td>\n",
       "      <td>NaN</td>\n",
       "      <td>ks</td>\n",
       "      <td>2010</td>\n",
       "      <td>ls</td>\n",
       "    </tr>\n",
       "    <tr>\n",
       "      <td>1</td>\n",
       "      <td>2</td>\n",
       "      <td>JSB008</td>\n",
       "      <td>Dějiny sociologie II.</td>\n",
       "      <td>Šanderová</td>\n",
       "      <td>Horák</td>\n",
       "      <td>3.0</td>\n",
       "      <td>4.0</td>\n",
       "      <td>4.0</td>\n",
       "      <td>5.0</td>\n",
       "      <td>4.0</td>\n",
       "      <td>...</td>\n",
       "      <td>5.0</td>\n",
       "      <td>3.0</td>\n",
       "      <td>3.0</td>\n",
       "      <td>4.0</td>\n",
       "      <td>3.0</td>\n",
       "      <td>NaN</td>\n",
       "      <td>Vlastní názor by se mohl více cenit.</td>\n",
       "      <td>ks</td>\n",
       "      <td>2010</td>\n",
       "      <td>ls</td>\n",
       "    </tr>\n",
       "    <tr>\n",
       "      <td>2</td>\n",
       "      <td>3</td>\n",
       "      <td>JSB008</td>\n",
       "      <td>Dějiny sociologie II.</td>\n",
       "      <td>Šanderová</td>\n",
       "      <td>Horák</td>\n",
       "      <td>4.0</td>\n",
       "      <td>4.0</td>\n",
       "      <td>4.0</td>\n",
       "      <td>5.0</td>\n",
       "      <td>3.0</td>\n",
       "      <td>...</td>\n",
       "      <td>5.0</td>\n",
       "      <td>4.0</td>\n",
       "      <td>4.0</td>\n",
       "      <td>3.0</td>\n",
       "      <td>3.0</td>\n",
       "      <td>NaN</td>\n",
       "      <td>NaN</td>\n",
       "      <td>ks</td>\n",
       "      <td>2010</td>\n",
       "      <td>ls</td>\n",
       "    </tr>\n",
       "    <tr>\n",
       "      <td>3</td>\n",
       "      <td>4</td>\n",
       "      <td>JSB008</td>\n",
       "      <td>Dějiny sociologie II.</td>\n",
       "      <td>Šanderová</td>\n",
       "      <td>Horák</td>\n",
       "      <td>4.0</td>\n",
       "      <td>5.0</td>\n",
       "      <td>4.0</td>\n",
       "      <td>3.0</td>\n",
       "      <td>4.0</td>\n",
       "      <td>...</td>\n",
       "      <td>5.0</td>\n",
       "      <td>5.0</td>\n",
       "      <td>4.0</td>\n",
       "      <td>4.0</td>\n",
       "      <td>4.0</td>\n",
       "      <td>NaN</td>\n",
       "      <td>NaN</td>\n",
       "      <td>ks</td>\n",
       "      <td>2010</td>\n",
       "      <td>ls</td>\n",
       "    </tr>\n",
       "    <tr>\n",
       "      <td>4</td>\n",
       "      <td>5</td>\n",
       "      <td>JSB008</td>\n",
       "      <td>Dějiny sociologie II.</td>\n",
       "      <td>Šanderová</td>\n",
       "      <td>Horák</td>\n",
       "      <td>4.0</td>\n",
       "      <td>4.0</td>\n",
       "      <td>4.0</td>\n",
       "      <td>3.0</td>\n",
       "      <td>5.0</td>\n",
       "      <td>...</td>\n",
       "      <td>5.0</td>\n",
       "      <td>4.0</td>\n",
       "      <td>4.0</td>\n",
       "      <td>4.0</td>\n",
       "      <td>5.0</td>\n",
       "      <td>NaN</td>\n",
       "      <td>NaN</td>\n",
       "      <td>ks</td>\n",
       "      <td>2010</td>\n",
       "      <td>ls</td>\n",
       "    </tr>\n",
       "  </tbody>\n",
       "</table>\n",
       "<p>5 rows × 23 columns</p>\n",
       "</div>"
      ],
      "text/plain": [
       "  number course_code           course_title   teachers seminar_leaders   q1  \\\n",
       "0      1      JSB008  Dějiny sociologie II.  Šanderová           Horák  3.0   \n",
       "1      2      JSB008  Dějiny sociologie II.  Šanderová           Horák  3.0   \n",
       "2      3      JSB008  Dějiny sociologie II.  Šanderová           Horák  4.0   \n",
       "3      4      JSB008  Dějiny sociologie II.  Šanderová           Horák  4.0   \n",
       "4      5      JSB008  Dějiny sociologie II.  Šanderová           Horák  4.0   \n",
       "\n",
       "    q2   q3   q4   q5  ...   q9  q10  q11  q12  q13  c_value  \\\n",
       "0  3.0  4.0  4.0  3.0  ...  4.0  4.0  3.0  4.0  3.0      NaN   \n",
       "1  4.0  4.0  5.0  4.0  ...  5.0  3.0  3.0  4.0  3.0      NaN   \n",
       "2  4.0  4.0  5.0  3.0  ...  5.0  4.0  4.0  3.0  3.0      NaN   \n",
       "3  5.0  4.0  3.0  4.0  ...  5.0  5.0  4.0  4.0  4.0      NaN   \n",
       "4  4.0  4.0  3.0  5.0  ...  5.0  4.0  4.0  4.0  5.0      NaN   \n",
       "\n",
       "                              c_improve  department_code  year semester  \n",
       "0                                   NaN               ks  2010       ls  \n",
       "1  Vlastní názor by se mohl více cenit.               ks  2010       ls  \n",
       "2                                   NaN               ks  2010       ls  \n",
       "3                                   NaN               ks  2010       ls  \n",
       "4                                   NaN               ks  2010       ls  \n",
       "\n",
       "[5 rows x 23 columns]"
      ]
     },
     "execution_count": 6,
     "metadata": {},
     "output_type": "execute_result"
    }
   ],
   "source": [
    "df_all.head()"
   ]
  },
  {
   "cell_type": "code",
   "execution_count": 7,
   "metadata": {},
   "outputs": [],
   "source": [
    "# define dataframe with questions\n",
    "q_columns = [x for x in df_all.columns if 'q' in x]\n",
    "df_q = df_all[q_columns]"
   ]
  },
  {
   "cell_type": "code",
   "execution_count": 8,
   "metadata": {},
   "outputs": [],
   "source": [
    "# define dataframe with comments \n",
    "df_c = df_all[['c_value', 'c_improve']]\n",
    "\n",
    "# define dataframe with teachers\n",
    "df_t = df_all[['teachers', 'seminar_leaders']]"
   ]
  },
  {
   "cell_type": "markdown",
   "metadata": {},
   "source": [
    "# Using functions on pandas objects\n",
    "\n",
    "| Operation          | Function              |\n",
    "|--------------------|-----------------------|\n",
    "| Tablewise          | `pipe()`              |\n",
    "| Row or Column-wise | `apply()`             |\n",
    "| Aggregation        | `agg() / transform()` |\n",
    "| Elementwise        | `applymap()`          |\n",
    "\n",
    "**Tablewise**\n",
    "* DFs and Series can be arguments of the functions\n",
    "* if multiple functions need to be called in a sequence, use `pipe()` method, also called the method chaining\n",
    "    * often used in the data science setting\n",
    "    * inspired by unix pipes and dplyr (%>%) operator in R \n",
    "\n",
    "\n",
    "* Compare\n",
    "    * `df = foo3(foo2(foo1(df, arg1= 1), arg2= 2), arg3=3)`\n",
    "\n",
    "    * ```\n",
    "        df.pipe(foo1, arg1=1)\n",
    "\n",
    "        pipe(foo2, arg2=2)\n",
    "    \n",
    "        pipe(foo3, arg3=3)\n",
    "        ```\n"
   ]
  },
  {
   "cell_type": "code",
   "execution_count": 9,
   "metadata": {},
   "outputs": [],
   "source": [
    "# prepare some toy dataframe\n",
    "import statsmodels.formula.api as sm\n",
    "x = np.linspace(-10,10,100)\n",
    "y = x**2\n",
    "ols_data = pd.DataFrame({'x': x, 'y': y})"
   ]
  },
  {
   "cell_type": "code",
   "execution_count": 10,
   "metadata": {},
   "outputs": [
    {
     "data": {
      "text/html": [
       "<table class=\"simpletable\">\n",
       "<caption>OLS Regression Results</caption>\n",
       "<tr>\n",
       "  <th>Dep. Variable:</th>            <td>y</td>        <th>  R-squared:         </th>  <td>  -0.000</td> \n",
       "</tr>\n",
       "<tr>\n",
       "  <th>Model:</th>                   <td>OLS</td>       <th>  Adj. R-squared:    </th>  <td>  -0.010</td> \n",
       "</tr>\n",
       "<tr>\n",
       "  <th>Method:</th>             <td>Least Squares</td>  <th>  F-statistic:       </th> <td>-1.542e-14</td>\n",
       "</tr>\n",
       "<tr>\n",
       "  <th>Date:</th>             <td>Tue, 19 Nov 2019</td> <th>  Prob (F-statistic):</th>   <td>  1.00</td>  \n",
       "</tr>\n",
       "<tr>\n",
       "  <th>Time:</th>                 <td>15:22:34</td>     <th>  Log-Likelihood:    </th>  <td> -483.38</td> \n",
       "</tr>\n",
       "<tr>\n",
       "  <th>No. Observations:</th>      <td>   100</td>      <th>  AIC:               </th>  <td>   970.8</td> \n",
       "</tr>\n",
       "<tr>\n",
       "  <th>Df Residuals:</th>          <td>    98</td>      <th>  BIC:               </th>  <td>   976.0</td> \n",
       "</tr>\n",
       "<tr>\n",
       "  <th>Df Model:</th>              <td>     1</td>      <th>                     </th>      <td> </td>    \n",
       "</tr>\n",
       "<tr>\n",
       "  <th>Covariance Type:</th>      <td>nonrobust</td>    <th>                     </th>      <td> </td>    \n",
       "</tr>\n",
       "</table>\n",
       "<table class=\"simpletable\">\n",
       "<tr>\n",
       "      <td></td>         <th>coef</th>     <th>std err</th>      <th>t</th>      <th>P>|t|</th>  <th>[0.025</th>    <th>0.975]</th>  \n",
       "</tr>\n",
       "<tr>\n",
       "  <th>Intercept</th> <td>   34.0067</td> <td>    3.072</td> <td>   11.070</td> <td> 0.000</td> <td>   27.910</td> <td>   40.103</td>\n",
       "</tr>\n",
       "<tr>\n",
       "  <th>x</th>         <td>-1.665e-16</td> <td>    0.527</td> <td>-3.16e-16</td> <td> 1.000</td> <td>   -1.045</td> <td>    1.045</td>\n",
       "</tr>\n",
       "</table>\n",
       "<table class=\"simpletable\">\n",
       "<tr>\n",
       "  <th>Omnibus:</th>       <td>14.290</td> <th>  Durbin-Watson:     </th> <td>   0.006</td>\n",
       "</tr>\n",
       "<tr>\n",
       "  <th>Prob(Omnibus):</th> <td> 0.001</td> <th>  Jarque-Bera (JB):  </th> <td>   9.864</td>\n",
       "</tr>\n",
       "<tr>\n",
       "  <th>Skew:</th>          <td> 0.638</td> <th>  Prob(JB):          </th> <td> 0.00721</td>\n",
       "</tr>\n",
       "<tr>\n",
       "  <th>Kurtosis:</th>      <td> 2.140</td> <th>  Cond. No.          </th> <td>    5.83</td>\n",
       "</tr>\n",
       "</table><br/><br/>Warnings:<br/>[1] Standard Errors assume that the covariance matrix of the errors is correctly specified."
      ],
      "text/plain": [
       "<class 'statsmodels.iolib.summary.Summary'>\n",
       "\"\"\"\n",
       "                            OLS Regression Results                            \n",
       "==============================================================================\n",
       "Dep. Variable:                      y   R-squared:                      -0.000\n",
       "Model:                            OLS   Adj. R-squared:                 -0.010\n",
       "Method:                 Least Squares   F-statistic:                -1.542e-14\n",
       "Date:                Tue, 19 Nov 2019   Prob (F-statistic):               1.00\n",
       "Time:                        15:22:34   Log-Likelihood:                -483.38\n",
       "No. Observations:                 100   AIC:                             970.8\n",
       "Df Residuals:                      98   BIC:                             976.0\n",
       "Df Model:                           1                                         \n",
       "Covariance Type:            nonrobust                                         \n",
       "==============================================================================\n",
       "                 coef    std err          t      P>|t|      [0.025      0.975]\n",
       "------------------------------------------------------------------------------\n",
       "Intercept     34.0067      3.072     11.070      0.000      27.910      40.103\n",
       "x          -1.665e-16      0.527  -3.16e-16      1.000      -1.045       1.045\n",
       "==============================================================================\n",
       "Omnibus:                       14.290   Durbin-Watson:                   0.006\n",
       "Prob(Omnibus):                  0.001   Jarque-Bera (JB):                9.864\n",
       "Skew:                           0.638   Prob(JB):                      0.00721\n",
       "Kurtosis:                       2.140   Cond. No.                         5.83\n",
       "==============================================================================\n",
       "\n",
       "Warnings:\n",
       "[1] Standard Errors assume that the covariance matrix of the errors is correctly specified.\n",
       "\"\"\""
      ]
     },
     "execution_count": 10,
     "metadata": {},
     "output_type": "execute_result"
    }
   ],
   "source": [
    "# method chaining way, with pipe(function, arguments)\n",
    "(ols_data.pipe((sm.ols, 'data'), 'y ~ x')\n",
    " .fit()\n",
    " .summary()\n",
    ")"
   ]
  },
  {
   "cell_type": "markdown",
   "metadata": {},
   "source": [
    "## Row or Column-wise Function Application\n",
    "* `apply()` is extremely powerful, when used with some brainpower\n",
    "* it also encompasses tranformation and aggregation"
   ]
  },
  {
   "cell_type": "code",
   "execution_count": 11,
   "metadata": {},
   "outputs": [],
   "source": [
    "# simple\n",
    "df_q.apply(np.mean, axis = 0);"
   ]
  },
  {
   "cell_type": "code",
   "execution_count": 12,
   "metadata": {},
   "outputs": [],
   "source": [
    "# handy lambdas\n",
    "df_q.apply(np.mean, axis = 0) == df_q.apply(lambda x: np.mean(x), axis = 0);"
   ]
  },
  {
   "cell_type": "markdown",
   "metadata": {},
   "source": [
    "* if you don't want to define function outside the apply, you can use `lambda` to input x into multiple function within apply"
   ]
  },
  {
   "cell_type": "code",
   "execution_count": 13,
   "metadata": {},
   "outputs": [],
   "source": [
    "# why are lambdas useful? using lambda\n",
    "df_q.apply(lambda x: (x - np.mean(x)) / np.std(x), axis = 0);"
   ]
  },
  {
   "cell_type": "code",
   "execution_count": 14,
   "metadata": {},
   "outputs": [],
   "source": [
    "# using custom function, with arguments (could have also be done with lambda)\n",
    "def add_and_substract(df, sub = 1, add = 1):\n",
    "    return df - sub + add\n",
    "df_q.apply(add_and_substract, args = (0,0));\n"
   ]
  },
  {
   "cell_type": "code",
   "execution_count": 15,
   "metadata": {},
   "outputs": [
    {
     "data": {
      "text/plain": [
       "2038"
      ]
     },
     "execution_count": 15,
     "metadata": {},
     "output_type": "execute_result"
    }
   ],
   "source": [
    "# A little bit more sophisticated:  e.g. get index of the observation with the longest value comment\n",
    "df_c['c_value'].apply(lambda x: len(str(x))).idxmax()"
   ]
  },
  {
   "cell_type": "markdown",
   "metadata": {},
   "source": [
    "**Aggregation**\n",
    "* *`aggregate()`* and *`transform()`*\n",
    "* aggregation allows multiple aggregation operations in a single concise way\n",
    "* transformation method returns an object that is indexed the same as the original\n",
    "   * allows multiple operations at the same time, instead of one-by-one as `aggregate()` method"
   ]
  },
  {
   "cell_type": "code",
   "execution_count": 18,
   "metadata": {},
   "outputs": [
    {
     "data": {
      "text/html": [
       "<div>\n",
       "<style scoped>\n",
       "    .dataframe tbody tr th:only-of-type {\n",
       "        vertical-align: middle;\n",
       "    }\n",
       "\n",
       "    .dataframe tbody tr th {\n",
       "        vertical-align: top;\n",
       "    }\n",
       "\n",
       "    .dataframe thead th {\n",
       "        text-align: right;\n",
       "    }\n",
       "</style>\n",
       "<table border=\"1\" class=\"dataframe\">\n",
       "  <thead>\n",
       "    <tr style=\"text-align: right;\">\n",
       "      <th></th>\n",
       "      <th>q1</th>\n",
       "      <th>q2</th>\n",
       "      <th>q3</th>\n",
       "      <th>q4</th>\n",
       "      <th>q5</th>\n",
       "      <th>q6</th>\n",
       "      <th>q7</th>\n",
       "      <th>q8</th>\n",
       "      <th>q9</th>\n",
       "      <th>q10</th>\n",
       "      <th>q11</th>\n",
       "      <th>q12</th>\n",
       "      <th>q13</th>\n",
       "    </tr>\n",
       "  </thead>\n",
       "  <tbody>\n",
       "    <tr>\n",
       "      <td>mean</td>\n",
       "      <td>4.208705</td>\n",
       "      <td>3.530888</td>\n",
       "      <td>4.291746</td>\n",
       "      <td>4.447318</td>\n",
       "      <td>4.042199</td>\n",
       "      <td>4.308994</td>\n",
       "      <td>4.522126</td>\n",
       "      <td>4.161178</td>\n",
       "      <td>2.122761</td>\n",
       "      <td>4.154364</td>\n",
       "      <td>3.721939</td>\n",
       "      <td>4.013228</td>\n",
       "      <td>4.261692</td>\n",
       "    </tr>\n",
       "    <tr>\n",
       "      <td>std</td>\n",
       "      <td>0.882609</td>\n",
       "      <td>0.980503</td>\n",
       "      <td>0.897745</td>\n",
       "      <td>0.840287</td>\n",
       "      <td>1.048637</td>\n",
       "      <td>0.878847</td>\n",
       "      <td>0.779398</td>\n",
       "      <td>0.997058</td>\n",
       "      <td>1.515671</td>\n",
       "      <td>0.921508</td>\n",
       "      <td>1.140794</td>\n",
       "      <td>0.984485</td>\n",
       "      <td>0.955209</td>\n",
       "    </tr>\n",
       "    <tr>\n",
       "      <td>amin</td>\n",
       "      <td>1.000000</td>\n",
       "      <td>1.000000</td>\n",
       "      <td>1.000000</td>\n",
       "      <td>1.000000</td>\n",
       "      <td>1.000000</td>\n",
       "      <td>1.000000</td>\n",
       "      <td>1.000000</td>\n",
       "      <td>1.000000</td>\n",
       "      <td>1.000000</td>\n",
       "      <td>1.000000</td>\n",
       "      <td>1.000000</td>\n",
       "      <td>1.000000</td>\n",
       "      <td>1.000000</td>\n",
       "    </tr>\n",
       "    <tr>\n",
       "      <td>amax</td>\n",
       "      <td>5.000000</td>\n",
       "      <td>5.000000</td>\n",
       "      <td>5.000000</td>\n",
       "      <td>5.000000</td>\n",
       "      <td>5.000000</td>\n",
       "      <td>5.000000</td>\n",
       "      <td>5.000000</td>\n",
       "      <td>5.000000</td>\n",
       "      <td>5.000000</td>\n",
       "      <td>5.000000</td>\n",
       "      <td>5.000000</td>\n",
       "      <td>5.000000</td>\n",
       "      <td>5.000000</td>\n",
       "    </tr>\n",
       "  </tbody>\n",
       "</table>\n",
       "</div>"
      ],
      "text/plain": [
       "            q1        q2        q3        q4        q5        q6        q7  \\\n",
       "mean  4.208705  3.530888  4.291746  4.447318  4.042199  4.308994  4.522126   \n",
       "std   0.882609  0.980503  0.897745  0.840287  1.048637  0.878847  0.779398   \n",
       "amin  1.000000  1.000000  1.000000  1.000000  1.000000  1.000000  1.000000   \n",
       "amax  5.000000  5.000000  5.000000  5.000000  5.000000  5.000000  5.000000   \n",
       "\n",
       "            q8        q9       q10       q11       q12       q13  \n",
       "mean  4.161178  2.122761  4.154364  3.721939  4.013228  4.261692  \n",
       "std   0.997058  1.515671  0.921508  1.140794  0.984485  0.955209  \n",
       "amin  1.000000  1.000000  1.000000  1.000000  1.000000  1.000000  \n",
       "amax  5.000000  5.000000  5.000000  5.000000  5.000000  5.000000  "
      ]
     },
     "execution_count": 18,
     "metadata": {},
     "output_type": "execute_result"
    }
   ],
   "source": [
    "# aggregating simple function is the same as apply\n",
    "df_q.agg(np.mean, axis = 0)\n",
    "\n",
    "# aggregating more functions more interesting (you could do your own describe function easily! )\n",
    "df_q.aggregate([np.mean, np.std, np.min, np.max], axis = 0)"
   ]
  },
  {
   "cell_type": "code",
   "execution_count": 19,
   "metadata": {},
   "outputs": [
    {
     "data": {
      "text/html": [
       "<div>\n",
       "<style scoped>\n",
       "    .dataframe tbody tr th:only-of-type {\n",
       "        vertical-align: middle;\n",
       "    }\n",
       "\n",
       "    .dataframe tbody tr th {\n",
       "        vertical-align: top;\n",
       "    }\n",
       "\n",
       "    .dataframe thead th {\n",
       "        text-align: right;\n",
       "    }\n",
       "</style>\n",
       "<table border=\"1\" class=\"dataframe\">\n",
       "  <thead>\n",
       "    <tr style=\"text-align: right;\">\n",
       "      <th></th>\n",
       "      <th>q1</th>\n",
       "      <th>q2</th>\n",
       "      <th>q3</th>\n",
       "      <th>q4</th>\n",
       "      <th>q5</th>\n",
       "      <th>q6</th>\n",
       "      <th>q7</th>\n",
       "      <th>q8</th>\n",
       "      <th>q9</th>\n",
       "      <th>q10</th>\n",
       "      <th>q11</th>\n",
       "      <th>q12</th>\n",
       "      <th>q13</th>\n",
       "    </tr>\n",
       "  </thead>\n",
       "  <tbody>\n",
       "    <tr>\n",
       "      <td>mean</td>\n",
       "      <td>4.208705</td>\n",
       "      <td>3.530888</td>\n",
       "      <td>4.291746</td>\n",
       "      <td>4.447318</td>\n",
       "      <td>4.042199</td>\n",
       "      <td>4.308994</td>\n",
       "      <td>4.522126</td>\n",
       "      <td>4.161178</td>\n",
       "      <td>2.122761</td>\n",
       "      <td>4.154364</td>\n",
       "      <td>3.721939</td>\n",
       "      <td>4.013228</td>\n",
       "      <td>4.261692</td>\n",
       "    </tr>\n",
       "    <tr>\n",
       "      <td>std</td>\n",
       "      <td>0.882609</td>\n",
       "      <td>0.980503</td>\n",
       "      <td>0.897745</td>\n",
       "      <td>0.840287</td>\n",
       "      <td>1.048637</td>\n",
       "      <td>0.878847</td>\n",
       "      <td>0.779398</td>\n",
       "      <td>0.997058</td>\n",
       "      <td>1.515671</td>\n",
       "      <td>0.921508</td>\n",
       "      <td>1.140794</td>\n",
       "      <td>0.984485</td>\n",
       "      <td>0.955209</td>\n",
       "    </tr>\n",
       "    <tr>\n",
       "      <td>amin</td>\n",
       "      <td>1.000000</td>\n",
       "      <td>1.000000</td>\n",
       "      <td>1.000000</td>\n",
       "      <td>1.000000</td>\n",
       "      <td>1.000000</td>\n",
       "      <td>1.000000</td>\n",
       "      <td>1.000000</td>\n",
       "      <td>1.000000</td>\n",
       "      <td>1.000000</td>\n",
       "      <td>1.000000</td>\n",
       "      <td>1.000000</td>\n",
       "      <td>1.000000</td>\n",
       "      <td>1.000000</td>\n",
       "    </tr>\n",
       "    <tr>\n",
       "      <td>amax</td>\n",
       "      <td>5.000000</td>\n",
       "      <td>5.000000</td>\n",
       "      <td>5.000000</td>\n",
       "      <td>5.000000</td>\n",
       "      <td>5.000000</td>\n",
       "      <td>5.000000</td>\n",
       "      <td>5.000000</td>\n",
       "      <td>5.000000</td>\n",
       "      <td>5.000000</td>\n",
       "      <td>5.000000</td>\n",
       "      <td>5.000000</td>\n",
       "      <td>5.000000</td>\n",
       "      <td>5.000000</td>\n",
       "    </tr>\n",
       "  </tbody>\n",
       "</table>\n",
       "</div>"
      ],
      "text/plain": [
       "            q1        q2        q3        q4        q5        q6        q7  \\\n",
       "mean  4.208705  3.530888  4.291746  4.447318  4.042199  4.308994  4.522126   \n",
       "std   0.882609  0.980503  0.897745  0.840287  1.048637  0.878847  0.779398   \n",
       "amin  1.000000  1.000000  1.000000  1.000000  1.000000  1.000000  1.000000   \n",
       "amax  5.000000  5.000000  5.000000  5.000000  5.000000  5.000000  5.000000   \n",
       "\n",
       "            q8        q9       q10       q11       q12       q13  \n",
       "mean  4.161178  2.122761  4.154364  3.721939  4.013228  4.261692  \n",
       "std   0.997058  1.515671  0.921508  1.140794  0.984485  0.955209  \n",
       "amin  1.000000  1.000000  1.000000  1.000000  1.000000  1.000000  \n",
       "amax  5.000000  5.000000  5.000000  5.000000  5.000000  5.000000  "
      ]
     },
     "execution_count": 19,
     "metadata": {},
     "output_type": "execute_result"
    }
   ],
   "source": [
    "# compare with apply\n",
    "df_q.apply([np.mean, np.std, np.min, np.max], axis = 0)"
   ]
  },
  {
   "cell_type": "code",
   "execution_count": 20,
   "metadata": {},
   "outputs": [
    {
     "data": {
      "text/html": [
       "<div>\n",
       "<style scoped>\n",
       "    .dataframe tbody tr th:only-of-type {\n",
       "        vertical-align: middle;\n",
       "    }\n",
       "\n",
       "    .dataframe tbody tr th {\n",
       "        vertical-align: top;\n",
       "    }\n",
       "\n",
       "    .dataframe thead th {\n",
       "        text-align: right;\n",
       "    }\n",
       "</style>\n",
       "<table border=\"1\" class=\"dataframe\">\n",
       "  <thead>\n",
       "    <tr style=\"text-align: right;\">\n",
       "      <th></th>\n",
       "      <th>q1</th>\n",
       "      <th>q2</th>\n",
       "      <th>q3</th>\n",
       "    </tr>\n",
       "  </thead>\n",
       "  <tbody>\n",
       "    <tr>\n",
       "      <td>mean</td>\n",
       "      <td>4.208705</td>\n",
       "      <td>NaN</td>\n",
       "      <td>NaN</td>\n",
       "    </tr>\n",
       "    <tr>\n",
       "      <td>std</td>\n",
       "      <td>NaN</td>\n",
       "      <td>0.980503</td>\n",
       "      <td>NaN</td>\n",
       "    </tr>\n",
       "    <tr>\n",
       "      <td>var</td>\n",
       "      <td>NaN</td>\n",
       "      <td>NaN</td>\n",
       "      <td>0.805947</td>\n",
       "    </tr>\n",
       "  </tbody>\n",
       "</table>\n",
       "</div>"
      ],
      "text/plain": [
       "            q1        q2        q3\n",
       "mean  4.208705       NaN       NaN\n",
       "std        NaN  0.980503       NaN\n",
       "var        NaN       NaN  0.805947"
      ]
     },
     "execution_count": 20,
     "metadata": {},
     "output_type": "execute_result"
    }
   ],
   "source": [
    "# aggregating using dictionary, i.e. column specific aggregation\n",
    "df_q.agg({'q1' : [np.mean], 'q2': np.std, 'q3': np.var})"
   ]
  },
  {
   "cell_type": "markdown",
   "metadata": {},
   "source": [
    "**Elementwise**\n",
    "* `applymap()`\n",
    "* not all functions can be vectorized ... "
   ]
  },
  {
   "cell_type": "code",
   "execution_count": 21,
   "metadata": {},
   "outputs": [],
   "source": [
    "# some function\n",
    "def l(x):\n",
    "    return len(str(x))\n",
    "\n",
    "# for series\n",
    "df_all['c_value'].map(l);"
   ]
  },
  {
   "cell_type": "code",
   "execution_count": 22,
   "metadata": {},
   "outputs": [],
   "source": [
    "# for dataframe\n",
    "df_all[['c_value', 'c_improve']].applymap(l);"
   ]
  },
  {
   "cell_type": "markdown",
   "metadata": {},
   "source": [
    "## Missing values\n",
    "\n",
    "* [docs](https://pandas.pydata.org/pandas-docs/stable/user_guide/missing_data.html)"
   ]
  },
  {
   "cell_type": "code",
   "execution_count": 24,
   "metadata": {},
   "outputs": [
    {
     "data": {
      "text/plain": [
       "0.25073325041077377"
      ]
     },
     "execution_count": 24,
     "metadata": {},
     "output_type": "execute_result"
    }
   ],
   "source": [
    "# % of missing observations for specific column\n",
    "df_all['q5'].isnull().sum() / df_all['q1'].isnull().count()"
   ]
  },
  {
   "cell_type": "markdown",
   "metadata": {},
   "source": [
    "# Merge, join and concatenate\n",
    "\n",
    "## Concat\n",
    "* for combining together Series, DataFrame, and Panel objects with various kinds of set logic for the indexes and relational algebra functionality in the case of join / merge-type operations\n",
    "* concat() (and therefore append()) makes a full copy of the data\n",
    "    * constantly reusing this function can slow down performance"
   ]
  },
  {
   "cell_type": "code",
   "execution_count": 27,
   "metadata": {},
   "outputs": [],
   "source": [
    "A = df_q.head(10)\n",
    "B = df_q.head(10)"
   ]
  },
  {
   "cell_type": "code",
   "execution_count": 28,
   "metadata": {},
   "outputs": [],
   "source": [
    "pd.concat([A,B], axis = 0);"
   ]
  },
  {
   "cell_type": "markdown",
   "metadata": {},
   "source": [
    "## Merge\n",
    "* `merge()` serves as a starting point for all standard database join operations between DataFrame or named Series objects\n",
    "\n",
    "* `pd.merge()` is a function in the pandas namespace (also a DataFrame instance method)\n",
    "* merge methods and (relational algebra)"
   ]
  },
  {
   "cell_type": "code",
   "execution_count": 29,
   "metadata": {},
   "outputs": [
    {
     "name": "stdout",
     "output_type": "stream",
     "text": [
      "Object `pd.merge;` not found.\n"
     ]
    }
   ],
   "source": [
    "??pd.merge;"
   ]
  },
  {
   "cell_type": "code",
   "execution_count": 30,
   "metadata": {},
   "outputs": [
    {
     "data": {
      "text/html": [
       "<div>\n",
       "<style scoped>\n",
       "    .dataframe tbody tr th:only-of-type {\n",
       "        vertical-align: middle;\n",
       "    }\n",
       "\n",
       "    .dataframe tbody tr th {\n",
       "        vertical-align: top;\n",
       "    }\n",
       "\n",
       "    .dataframe thead th {\n",
       "        text-align: right;\n",
       "    }\n",
       "</style>\n",
       "<table border=\"1\" class=\"dataframe\">\n",
       "  <thead>\n",
       "    <tr style=\"text-align: right;\">\n",
       "      <th></th>\n",
       "      <th>q1</th>\n",
       "      <th>q2</th>\n",
       "      <th>q3</th>\n",
       "      <th>q4</th>\n",
       "      <th>q5</th>\n",
       "      <th>q6</th>\n",
       "      <th>q7</th>\n",
       "      <th>q8</th>\n",
       "      <th>q9</th>\n",
       "      <th>q10</th>\n",
       "      <th>q11</th>\n",
       "      <th>q12</th>\n",
       "      <th>q13</th>\n",
       "    </tr>\n",
       "  </thead>\n",
       "  <tbody>\n",
       "    <tr>\n",
       "      <td>0</td>\n",
       "      <td>3.0</td>\n",
       "      <td>3.0</td>\n",
       "      <td>4.0</td>\n",
       "      <td>4.0</td>\n",
       "      <td>3.0</td>\n",
       "      <td>3.0</td>\n",
       "      <td>4.0</td>\n",
       "      <td>4.0</td>\n",
       "      <td>4.0</td>\n",
       "      <td>4.0</td>\n",
       "      <td>3.0</td>\n",
       "      <td>4.0</td>\n",
       "      <td>3.0</td>\n",
       "    </tr>\n",
       "    <tr>\n",
       "      <td>1</td>\n",
       "      <td>3.0</td>\n",
       "      <td>4.0</td>\n",
       "      <td>4.0</td>\n",
       "      <td>5.0</td>\n",
       "      <td>4.0</td>\n",
       "      <td>4.0</td>\n",
       "      <td>4.0</td>\n",
       "      <td>3.0</td>\n",
       "      <td>5.0</td>\n",
       "      <td>3.0</td>\n",
       "      <td>3.0</td>\n",
       "      <td>4.0</td>\n",
       "      <td>3.0</td>\n",
       "    </tr>\n",
       "    <tr>\n",
       "      <td>2</td>\n",
       "      <td>4.0</td>\n",
       "      <td>4.0</td>\n",
       "      <td>4.0</td>\n",
       "      <td>5.0</td>\n",
       "      <td>3.0</td>\n",
       "      <td>3.0</td>\n",
       "      <td>4.0</td>\n",
       "      <td>4.0</td>\n",
       "      <td>5.0</td>\n",
       "      <td>4.0</td>\n",
       "      <td>4.0</td>\n",
       "      <td>3.0</td>\n",
       "      <td>3.0</td>\n",
       "    </tr>\n",
       "    <tr>\n",
       "      <td>3</td>\n",
       "      <td>4.0</td>\n",
       "      <td>5.0</td>\n",
       "      <td>4.0</td>\n",
       "      <td>3.0</td>\n",
       "      <td>4.0</td>\n",
       "      <td>4.0</td>\n",
       "      <td>4.0</td>\n",
       "      <td>4.0</td>\n",
       "      <td>5.0</td>\n",
       "      <td>5.0</td>\n",
       "      <td>4.0</td>\n",
       "      <td>4.0</td>\n",
       "      <td>4.0</td>\n",
       "    </tr>\n",
       "    <tr>\n",
       "      <td>4</td>\n",
       "      <td>4.0</td>\n",
       "      <td>4.0</td>\n",
       "      <td>4.0</td>\n",
       "      <td>3.0</td>\n",
       "      <td>5.0</td>\n",
       "      <td>4.0</td>\n",
       "      <td>4.0</td>\n",
       "      <td>3.0</td>\n",
       "      <td>5.0</td>\n",
       "      <td>4.0</td>\n",
       "      <td>4.0</td>\n",
       "      <td>4.0</td>\n",
       "      <td>5.0</td>\n",
       "    </tr>\n",
       "  </tbody>\n",
       "</table>\n",
       "</div>"
      ],
      "text/plain": [
       "    q1   q2   q3   q4   q5   q6   q7   q8   q9  q10  q11  q12  q13\n",
       "0  3.0  3.0  4.0  4.0  3.0  3.0  4.0  4.0  4.0  4.0  3.0  4.0  3.0\n",
       "1  3.0  4.0  4.0  5.0  4.0  4.0  4.0  3.0  5.0  3.0  3.0  4.0  3.0\n",
       "2  4.0  4.0  4.0  5.0  3.0  3.0  4.0  4.0  5.0  4.0  4.0  3.0  3.0\n",
       "3  4.0  5.0  4.0  3.0  4.0  4.0  4.0  4.0  5.0  5.0  4.0  4.0  4.0\n",
       "4  4.0  4.0  4.0  3.0  5.0  4.0  4.0  3.0  5.0  4.0  4.0  4.0  5.0"
      ]
     },
     "execution_count": 30,
     "metadata": {},
     "output_type": "execute_result"
    }
   ],
   "source": [
    "df_q.head()"
   ]
  },
  {
   "cell_type": "code",
   "execution_count": 31,
   "metadata": {},
   "outputs": [
    {
     "data": {
      "text/html": [
       "<div>\n",
       "<style scoped>\n",
       "    .dataframe tbody tr th:only-of-type {\n",
       "        vertical-align: middle;\n",
       "    }\n",
       "\n",
       "    .dataframe tbody tr th {\n",
       "        vertical-align: top;\n",
       "    }\n",
       "\n",
       "    .dataframe thead th {\n",
       "        text-align: right;\n",
       "    }\n",
       "</style>\n",
       "<table border=\"1\" class=\"dataframe\">\n",
       "  <thead>\n",
       "    <tr style=\"text-align: right;\">\n",
       "      <th></th>\n",
       "      <th>teachers</th>\n",
       "      <th>seminar_leaders</th>\n",
       "    </tr>\n",
       "  </thead>\n",
       "  <tbody>\n",
       "    <tr>\n",
       "      <td>0</td>\n",
       "      <td>Šanderová</td>\n",
       "      <td>Horák</td>\n",
       "    </tr>\n",
       "    <tr>\n",
       "      <td>1</td>\n",
       "      <td>Šanderová</td>\n",
       "      <td>Horák</td>\n",
       "    </tr>\n",
       "    <tr>\n",
       "      <td>2</td>\n",
       "      <td>Šanderová</td>\n",
       "      <td>Horák</td>\n",
       "    </tr>\n",
       "    <tr>\n",
       "      <td>3</td>\n",
       "      <td>Šanderová</td>\n",
       "      <td>Horák</td>\n",
       "    </tr>\n",
       "    <tr>\n",
       "      <td>4</td>\n",
       "      <td>Šanderová</td>\n",
       "      <td>Horák</td>\n",
       "    </tr>\n",
       "  </tbody>\n",
       "</table>\n",
       "</div>"
      ],
      "text/plain": [
       "    teachers seminar_leaders\n",
       "0  Šanderová           Horák\n",
       "1  Šanderová           Horák\n",
       "2  Šanderová           Horák\n",
       "3  Šanderová           Horák\n",
       "4  Šanderová           Horák"
      ]
     },
     "execution_count": 31,
     "metadata": {},
     "output_type": "execute_result"
    }
   ],
   "source": [
    "df_t.head()"
   ]
  },
  {
   "cell_type": "code",
   "execution_count": 32,
   "metadata": {},
   "outputs": [],
   "source": [
    "pd.merge(df_q, df_t, how = 'inner', left_index = True, right_index = True);"
   ]
  },
  {
   "cell_type": "markdown",
   "metadata": {},
   "source": [
    "* care about merging repeatedly and _y in names \n",
    "    * to see what I am talking about, rerun the merging code 2 times in a row"
   ]
  },
  {
   "cell_type": "code",
   "execution_count": 33,
   "metadata": {},
   "outputs": [],
   "source": [
    "df_problem = df_q.copy(deep = True)"
   ]
  },
  {
   "cell_type": "code",
   "execution_count": 34,
   "metadata": {},
   "outputs": [],
   "source": [
    "df_problem = pd.merge(df_problem, df_t, how = 'inner', left_index = True, right_index = True)"
   ]
  },
  {
   "cell_type": "markdown",
   "metadata": {},
   "source": [
    "## Join\n",
    "* uses merge internally for the index-on-index (by default) and column(s)-on-index join\n",
    "* DataFrame.join() is a convenient method for combining the columns of two potentially differently-indexed DataFrames into a single result DataFrame. \n",
    "\n",
    "* similar to relational databases like SQL\n",
    "    * you can see the comparison with SQL [here](http://pandas.pydata.org/pandas-docs/stable/user_guide/merging.html)"
   ]
  },
  {
   "cell_type": "code",
   "execution_count": 35,
   "metadata": {},
   "outputs": [],
   "source": [
    "df_q.join(df_t);"
   ]
  },
  {
   "cell_type": "markdown",
   "metadata": {},
   "source": [
    "# Reshaping and Pivot Tables\n",
    "* data is often stored in so-called “stacked” or “record” format, let's look at [pd documentation](https://pandas.pydata.org/pandas-docs/stable/user_guide/restableshaping.html)"
   ]
  },
  {
   "cell_type": "code",
   "execution_count": 36,
   "metadata": {},
   "outputs": [
    {
     "data": {
      "text/html": [
       "<div>\n",
       "<style scoped>\n",
       "    .dataframe tbody tr th:only-of-type {\n",
       "        vertical-align: middle;\n",
       "    }\n",
       "\n",
       "    .dataframe tbody tr th {\n",
       "        vertical-align: top;\n",
       "    }\n",
       "\n",
       "    .dataframe thead th {\n",
       "        text-align: right;\n",
       "    }\n",
       "</style>\n",
       "<table border=\"1\" class=\"dataframe\">\n",
       "  <thead>\n",
       "    <tr style=\"text-align: right;\">\n",
       "      <th></th>\n",
       "      <th>number</th>\n",
       "      <th>course_code</th>\n",
       "      <th>course_title</th>\n",
       "      <th>teachers</th>\n",
       "      <th>seminar_leaders</th>\n",
       "      <th>q1</th>\n",
       "      <th>q2</th>\n",
       "      <th>q3</th>\n",
       "      <th>q4</th>\n",
       "      <th>q5</th>\n",
       "      <th>...</th>\n",
       "      <th>q9</th>\n",
       "      <th>q10</th>\n",
       "      <th>q11</th>\n",
       "      <th>q12</th>\n",
       "      <th>q13</th>\n",
       "      <th>c_value</th>\n",
       "      <th>c_improve</th>\n",
       "      <th>department_code</th>\n",
       "      <th>year</th>\n",
       "      <th>semester</th>\n",
       "    </tr>\n",
       "  </thead>\n",
       "  <tbody>\n",
       "    <tr>\n",
       "      <td>0</td>\n",
       "      <td>1</td>\n",
       "      <td>JSB008</td>\n",
       "      <td>Dějiny sociologie II.</td>\n",
       "      <td>Šanderová</td>\n",
       "      <td>Horák</td>\n",
       "      <td>3.0</td>\n",
       "      <td>3.0</td>\n",
       "      <td>4.0</td>\n",
       "      <td>4.0</td>\n",
       "      <td>3.0</td>\n",
       "      <td>...</td>\n",
       "      <td>4.0</td>\n",
       "      <td>4.0</td>\n",
       "      <td>3.0</td>\n",
       "      <td>4.0</td>\n",
       "      <td>3.0</td>\n",
       "      <td>NaN</td>\n",
       "      <td>NaN</td>\n",
       "      <td>ks</td>\n",
       "      <td>2010</td>\n",
       "      <td>ls</td>\n",
       "    </tr>\n",
       "    <tr>\n",
       "      <td>1</td>\n",
       "      <td>2</td>\n",
       "      <td>JSB008</td>\n",
       "      <td>Dějiny sociologie II.</td>\n",
       "      <td>Šanderová</td>\n",
       "      <td>Horák</td>\n",
       "      <td>3.0</td>\n",
       "      <td>4.0</td>\n",
       "      <td>4.0</td>\n",
       "      <td>5.0</td>\n",
       "      <td>4.0</td>\n",
       "      <td>...</td>\n",
       "      <td>5.0</td>\n",
       "      <td>3.0</td>\n",
       "      <td>3.0</td>\n",
       "      <td>4.0</td>\n",
       "      <td>3.0</td>\n",
       "      <td>NaN</td>\n",
       "      <td>Vlastní názor by se mohl více cenit.</td>\n",
       "      <td>ks</td>\n",
       "      <td>2010</td>\n",
       "      <td>ls</td>\n",
       "    </tr>\n",
       "    <tr>\n",
       "      <td>2</td>\n",
       "      <td>3</td>\n",
       "      <td>JSB008</td>\n",
       "      <td>Dějiny sociologie II.</td>\n",
       "      <td>Šanderová</td>\n",
       "      <td>Horák</td>\n",
       "      <td>4.0</td>\n",
       "      <td>4.0</td>\n",
       "      <td>4.0</td>\n",
       "      <td>5.0</td>\n",
       "      <td>3.0</td>\n",
       "      <td>...</td>\n",
       "      <td>5.0</td>\n",
       "      <td>4.0</td>\n",
       "      <td>4.0</td>\n",
       "      <td>3.0</td>\n",
       "      <td>3.0</td>\n",
       "      <td>NaN</td>\n",
       "      <td>NaN</td>\n",
       "      <td>ks</td>\n",
       "      <td>2010</td>\n",
       "      <td>ls</td>\n",
       "    </tr>\n",
       "    <tr>\n",
       "      <td>3</td>\n",
       "      <td>4</td>\n",
       "      <td>JSB008</td>\n",
       "      <td>Dějiny sociologie II.</td>\n",
       "      <td>Šanderová</td>\n",
       "      <td>Horák</td>\n",
       "      <td>4.0</td>\n",
       "      <td>5.0</td>\n",
       "      <td>4.0</td>\n",
       "      <td>3.0</td>\n",
       "      <td>4.0</td>\n",
       "      <td>...</td>\n",
       "      <td>5.0</td>\n",
       "      <td>5.0</td>\n",
       "      <td>4.0</td>\n",
       "      <td>4.0</td>\n",
       "      <td>4.0</td>\n",
       "      <td>NaN</td>\n",
       "      <td>NaN</td>\n",
       "      <td>ks</td>\n",
       "      <td>2010</td>\n",
       "      <td>ls</td>\n",
       "    </tr>\n",
       "    <tr>\n",
       "      <td>4</td>\n",
       "      <td>5</td>\n",
       "      <td>JSB008</td>\n",
       "      <td>Dějiny sociologie II.</td>\n",
       "      <td>Šanderová</td>\n",
       "      <td>Horák</td>\n",
       "      <td>4.0</td>\n",
       "      <td>4.0</td>\n",
       "      <td>4.0</td>\n",
       "      <td>3.0</td>\n",
       "      <td>5.0</td>\n",
       "      <td>...</td>\n",
       "      <td>5.0</td>\n",
       "      <td>4.0</td>\n",
       "      <td>4.0</td>\n",
       "      <td>4.0</td>\n",
       "      <td>5.0</td>\n",
       "      <td>NaN</td>\n",
       "      <td>NaN</td>\n",
       "      <td>ks</td>\n",
       "      <td>2010</td>\n",
       "      <td>ls</td>\n",
       "    </tr>\n",
       "  </tbody>\n",
       "</table>\n",
       "<p>5 rows × 23 columns</p>\n",
       "</div>"
      ],
      "text/plain": [
       "  number course_code           course_title   teachers seminar_leaders   q1  \\\n",
       "0      1      JSB008  Dějiny sociologie II.  Šanderová           Horák  3.0   \n",
       "1      2      JSB008  Dějiny sociologie II.  Šanderová           Horák  3.0   \n",
       "2      3      JSB008  Dějiny sociologie II.  Šanderová           Horák  4.0   \n",
       "3      4      JSB008  Dějiny sociologie II.  Šanderová           Horák  4.0   \n",
       "4      5      JSB008  Dějiny sociologie II.  Šanderová           Horák  4.0   \n",
       "\n",
       "    q2   q3   q4   q5  ...   q9  q10  q11  q12  q13  c_value  \\\n",
       "0  3.0  4.0  4.0  3.0  ...  4.0  4.0  3.0  4.0  3.0      NaN   \n",
       "1  4.0  4.0  5.0  4.0  ...  5.0  3.0  3.0  4.0  3.0      NaN   \n",
       "2  4.0  4.0  5.0  3.0  ...  5.0  4.0  4.0  3.0  3.0      NaN   \n",
       "3  5.0  4.0  3.0  4.0  ...  5.0  5.0  4.0  4.0  4.0      NaN   \n",
       "4  4.0  4.0  3.0  5.0  ...  5.0  4.0  4.0  4.0  5.0      NaN   \n",
       "\n",
       "                              c_improve  department_code  year semester  \n",
       "0                                   NaN               ks  2010       ls  \n",
       "1  Vlastní názor by se mohl více cenit.               ks  2010       ls  \n",
       "2                                   NaN               ks  2010       ls  \n",
       "3                                   NaN               ks  2010       ls  \n",
       "4                                   NaN               ks  2010       ls  \n",
       "\n",
       "[5 rows x 23 columns]"
      ]
     },
     "execution_count": 36,
     "metadata": {},
     "output_type": "execute_result"
    }
   ],
   "source": [
    "df_all.head()"
   ]
  },
  {
   "cell_type": "markdown",
   "metadata": {},
   "source": [
    "* Pivoting pivot/pivot-tables\n",
    "    *  `pivot()` provides general purpose pivoting with various data types (strings, numerics, etc.)\n",
    "    * `pivot_table()` for pivoting with aggregation of numeric data\n",
    "    "
   ]
  },
  {
   "cell_type": "code",
   "execution_count": 37,
   "metadata": {},
   "outputs": [
    {
     "name": "stdout",
     "output_type": "stream",
     "text": [
      "Object `pd.pivot();` not found.\n"
     ]
    }
   ],
   "source": [
    "??pd.pivot();"
   ]
  },
  {
   "cell_type": "code",
   "execution_count": 38,
   "metadata": {},
   "outputs": [
    {
     "name": "stdout",
     "output_type": "stream",
     "text": [
      "Object `pd.pivot_table();` not found.\n"
     ]
    }
   ],
   "source": [
    "??pd.pivot_table();"
   ]
  },
  {
   "cell_type": "code",
   "execution_count": 39,
   "metadata": {},
   "outputs": [],
   "source": [
    "df_all.pivot_table(index = 'year', columns = 'teachers', values = 'q1').head(10);"
   ]
  },
  {
   "cell_type": "code",
   "execution_count": 40,
   "metadata": {},
   "outputs": [],
   "source": [
    "df_all.pivot_table(index = 'year', columns = 'teachers', values = 'q1', aggfunc = np.mean).head(10);"
   ]
  },
  {
   "cell_type": "markdown",
   "metadata": {},
   "source": [
    "* Stacking & unstacking: `stack` and `unstack()`"
   ]
  },
  {
   "cell_type": "code",
   "execution_count": 41,
   "metadata": {},
   "outputs": [
    {
     "data": {
      "text/plain": [
       "0     number                                                             1\n",
       "      course_code                                                   JSB008\n",
       "      course_title                                   Dějiny sociologie II.\n",
       "      teachers                                                   Šanderová\n",
       "      seminar_leaders                                                Horák\n",
       "                                               ...                        \n",
       "6994  q13                                                                5\n",
       "      c_value            Ja kurz absolvovala s panem docentem Malym - j...\n",
       "      department_code                                                   kz\n",
       "      year                                                            2017\n",
       "      semester                                                          zs\n",
       "Length: 2350957, dtype: object"
      ]
     },
     "execution_count": 41,
     "metadata": {},
     "output_type": "execute_result"
    }
   ],
   "source": [
    "df_all.stack()"
   ]
  },
  {
   "cell_type": "markdown",
   "metadata": {},
   "source": [
    "* Melting: `melt()` or `wide_to_long()`"
   ]
  },
  {
   "cell_type": "code",
   "execution_count": 114,
   "metadata": {},
   "outputs": [
    {
     "data": {
      "text/html": [
       "<div>\n",
       "<style scoped>\n",
       "    .dataframe tbody tr th:only-of-type {\n",
       "        vertical-align: middle;\n",
       "    }\n",
       "\n",
       "    .dataframe tbody tr th {\n",
       "        vertical-align: top;\n",
       "    }\n",
       "\n",
       "    .dataframe thead th {\n",
       "        text-align: right;\n",
       "    }\n",
       "</style>\n",
       "<table border=\"1\" class=\"dataframe\">\n",
       "  <thead>\n",
       "    <tr style=\"text-align: right;\">\n",
       "      <th></th>\n",
       "      <th>course_title</th>\n",
       "      <th>teachers</th>\n",
       "      <th>variable</th>\n",
       "      <th>value</th>\n",
       "    </tr>\n",
       "  </thead>\n",
       "  <tbody>\n",
       "    <tr>\n",
       "      <th>0</th>\n",
       "      <td>Úvod do sociologie práce</td>\n",
       "      <td>Kuchař</td>\n",
       "      <td>number</td>\n",
       "      <td>1</td>\n",
       "    </tr>\n",
       "    <tr>\n",
       "      <th>1</th>\n",
       "      <td>Úvod do sociologie práce</td>\n",
       "      <td>Kuchař</td>\n",
       "      <td>number</td>\n",
       "      <td>2</td>\n",
       "    </tr>\n",
       "    <tr>\n",
       "      <th>2</th>\n",
       "      <td>Úvod do sociologie práce</td>\n",
       "      <td>Kuchař</td>\n",
       "      <td>number</td>\n",
       "      <td>3</td>\n",
       "    </tr>\n",
       "    <tr>\n",
       "      <th>3</th>\n",
       "      <td>Úvod do sociologie práce</td>\n",
       "      <td>Kuchař</td>\n",
       "      <td>number</td>\n",
       "      <td>4</td>\n",
       "    </tr>\n",
       "    <tr>\n",
       "      <th>4</th>\n",
       "      <td>Úvod do sociologie práce</td>\n",
       "      <td>Kuchař</td>\n",
       "      <td>number</td>\n",
       "      <td>5</td>\n",
       "    </tr>\n",
       "  </tbody>\n",
       "</table>\n",
       "</div>"
      ],
      "text/plain": [
       "               course_title teachers variable value\n",
       "0  Úvod do sociologie práce   Kuchař   number     1\n",
       "1  Úvod do sociologie práce   Kuchař   number     2\n",
       "2  Úvod do sociologie práce   Kuchař   number     3\n",
       "3  Úvod do sociologie práce   Kuchař   number     4\n",
       "4  Úvod do sociologie práce   Kuchař   number     5"
      ]
     },
     "execution_count": 114,
     "metadata": {},
     "output_type": "execute_result"
    }
   ],
   "source": [
    "# melting into long format\n",
    "df_all.melt(id_vars = ['course_title', 'teachers']).head()"
   ]
  },
  {
   "cell_type": "markdown",
   "metadata": {},
   "source": [
    "# Groub By: split-apply-combine\n",
    "\n",
    "\n",
    "* *Split* the data into groups\n",
    "* *Apply* a function to each group\n",
    "* *Combine* the results into a datastructure of our choosing\n",
    "\n",
    "* look at the [docs](https://pandas.pydata.org/pandas-docs/stable/reference/groupby.html)\n",
    "\n",
    "\n",
    "* the split step is straightforward\n",
    "* in the apply step: we might wish to one of the following:\n",
    "\n",
    "    * Aggregation: compute a summary statistic (or statistics) for each group, e.g. (group means)\n",
    "    * Transformation: perform some group-specific computations and return a like-indexed object, e.g. (Z-score within a group)\n",
    "    * Filtration: discard some groups, according to a group-wise computation that evaluates True or False, e.g. discard data from groups with only a few members\n",
    "\n",
    "\n",
    "* name GroupBy should be quite familiar to you since you have used a SQL-based tools (or itertools), in which you can write code like:\n",
    "\n",
    "``SELECT Column1, Column2, mean(Column3), sum(Column4) \n",
    "\n",
    "FROM SomeTable\n",
    "\n",
    "GROUP BY Column1, Column2``"
   ]
  },
  {
   "cell_type": "code",
   "execution_count": 42,
   "metadata": {},
   "outputs": [
    {
     "data": {
      "text/plain": [
       "course_title\n",
       "#BlackLivesMatter and Racial Justice                                       4.500000\n",
       "#Humansonthemove: a workshop on current aspects of migration in Europe     4.333333\n",
       "(Po)válečná společenství západního Balkánu po rozpadu Východního bloku     4.923077\n",
       "20th Century American Literature                                           4.000000\n",
       "20th Century Black Popular Music, Globalization, and Political Identity    4.500000\n",
       "                                                                             ...   \n",
       "Žurnalistická tvorba III                                                   3.481481\n",
       "Žurnalistická tvorba III - Časopisecká tvorba                              4.708955\n",
       "Žurnalistická tvorba III.                                                  4.153846\n",
       "Žurnalistické kauzy                                                        4.777778\n",
       "Žurnalistika a feminismus                                                  4.436364\n",
       "Name: q1, Length: 3133, dtype: float64"
      ]
     },
     "execution_count": 42,
     "metadata": {},
     "output_type": "execute_result"
    }
   ],
   "source": [
    "# Average q1 response for each course\n",
    "df_all.groupby('course_title')['q1'].mean()"
   ]
  },
  {
   "cell_type": "code",
   "execution_count": 43,
   "metadata": {},
   "outputs": [
    {
     "data": {
      "text/plain": [
       "course_title                                                            year\n",
       "#BlackLivesMatter and Racial Justice                                    2015    4.500000\n",
       "#Humansonthemove: a workshop on current aspects of migration in Europe  2015    4.333333\n",
       "(Po)válečná společenství západního Balkánu po rozpadu Východního bloku  2015    4.857143\n",
       "                                                                        2016    5.000000\n",
       "                                                                        2017    5.000000\n",
       "                                                                                  ...   \n",
       "Žurnalistika a feminismus                                               2012    4.391304\n",
       "                                                                        2014    4.437500\n",
       "                                                                        2015    4.727273\n",
       "                                                                        2016    4.750000\n",
       "                                                                        2017    4.545455\n",
       "Name: q1, Length: 7691, dtype: float64"
      ]
     },
     "execution_count": 43,
     "metadata": {},
     "output_type": "execute_result"
    }
   ],
   "source": [
    "# Average q1 response for each course\n",
    "df_all.groupby(['course_title','year'])['q1'].mean()"
   ]
  },
  {
   "cell_type": "markdown",
   "metadata": {},
   "source": [
    "## Splitting an object into groups\n",
    "\n",
    "* pandas objects can be split on any of their axes.\n",
    "* the abstract definition of grouping is to provide a mapping of labels to group names. (more on what the GroupBy object is later)\n",
    "* single group can be selected using `.get_group('label')`"
   ]
  },
  {
   "cell_type": "code",
   "execution_count": 149,
   "metadata": {},
   "outputs": [
    {
     "data": {
      "text/html": [
       "<div>\n",
       "<style scoped>\n",
       "    .dataframe tbody tr th:only-of-type {\n",
       "        vertical-align: middle;\n",
       "    }\n",
       "\n",
       "    .dataframe tbody tr th {\n",
       "        vertical-align: top;\n",
       "    }\n",
       "\n",
       "    .dataframe thead th {\n",
       "        text-align: right;\n",
       "    }\n",
       "</style>\n",
       "<table border=\"1\" class=\"dataframe\">\n",
       "  <thead>\n",
       "    <tr style=\"text-align: right;\">\n",
       "      <th></th>\n",
       "      <th>number</th>\n",
       "      <th>course_code</th>\n",
       "      <th>course_title</th>\n",
       "      <th>teachers</th>\n",
       "      <th>seminar_leaders</th>\n",
       "      <th>q1</th>\n",
       "      <th>q2</th>\n",
       "      <th>q3</th>\n",
       "      <th>q4</th>\n",
       "      <th>q5</th>\n",
       "      <th>...</th>\n",
       "      <th>q9</th>\n",
       "      <th>q10</th>\n",
       "      <th>q11</th>\n",
       "      <th>q12</th>\n",
       "      <th>q13</th>\n",
       "      <th>c_value</th>\n",
       "      <th>c_improve</th>\n",
       "      <th>department_code</th>\n",
       "      <th>year</th>\n",
       "      <th>semester</th>\n",
       "    </tr>\n",
       "  </thead>\n",
       "  <tbody>\n",
       "    <tr>\n",
       "      <th>547</th>\n",
       "      <td>548</td>\n",
       "      <td>JMM679</td>\n",
       "      <td>#BlackLivesMatter and Racial Justice</td>\n",
       "      <td>Carter,D.</td>\n",
       "      <td>NaN</td>\n",
       "      <td>5.0</td>\n",
       "      <td>5.0</td>\n",
       "      <td>5.0</td>\n",
       "      <td>5.0</td>\n",
       "      <td>5.0</td>\n",
       "      <td>...</td>\n",
       "      <td>2.0</td>\n",
       "      <td>5.0</td>\n",
       "      <td>2.0</td>\n",
       "      <td>2.0</td>\n",
       "      <td>4.0</td>\n",
       "      <td>Prof. Carter is one of the best scholars I had...</td>\n",
       "      <td>Prepare the list of readings in advance - so t...</td>\n",
       "      <td>kas</td>\n",
       "      <td>2015</td>\n",
       "      <td>ls</td>\n",
       "    </tr>\n",
       "    <tr>\n",
       "      <th>2879</th>\n",
       "      <td>2880</td>\n",
       "      <td>JMM679</td>\n",
       "      <td>#BlackLivesMatter and Racial Justice</td>\n",
       "      <td>Carter,D.</td>\n",
       "      <td>NaN</td>\n",
       "      <td>4.0</td>\n",
       "      <td>2.0</td>\n",
       "      <td>5.0</td>\n",
       "      <td>5.0</td>\n",
       "      <td>3.0</td>\n",
       "      <td>...</td>\n",
       "      <td>2.0</td>\n",
       "      <td>4.0</td>\n",
       "      <td>2.0</td>\n",
       "      <td>4.0</td>\n",
       "      <td>5.0</td>\n",
       "      <td>NaN</td>\n",
       "      <td>NaN</td>\n",
       "      <td>kas</td>\n",
       "      <td>2015</td>\n",
       "      <td>ls</td>\n",
       "    </tr>\n",
       "  </tbody>\n",
       "</table>\n",
       "<p>2 rows × 23 columns</p>\n",
       "</div>"
      ],
      "text/plain": [
       "     number course_code                          course_title   teachers  \\\n",
       "547     548      JMM679  #BlackLivesMatter and Racial Justice  Carter,D.   \n",
       "2879   2880      JMM679  #BlackLivesMatter and Racial Justice  Carter,D.   \n",
       "\n",
       "     seminar_leaders   q1   q2   q3   q4   q5  ...   q9  q10  q11  q12  q13  \\\n",
       "547              NaN  5.0  5.0  5.0  5.0  5.0  ...  2.0  5.0  2.0  2.0  4.0   \n",
       "2879             NaN  4.0  2.0  5.0  5.0  3.0  ...  2.0  4.0  2.0  4.0  5.0   \n",
       "\n",
       "                                                c_value  \\\n",
       "547   Prof. Carter is one of the best scholars I had...   \n",
       "2879                                                NaN   \n",
       "\n",
       "                                              c_improve  department_code  \\\n",
       "547   Prepare the list of readings in advance - so t...              kas   \n",
       "2879                                                NaN              kas   \n",
       "\n",
       "      year semester  \n",
       "547   2015       ls  \n",
       "2879  2015       ls  \n",
       "\n",
       "[2 rows x 23 columns]"
      ]
     },
     "execution_count": 149,
     "metadata": {},
     "output_type": "execute_result"
    }
   ],
   "source": [
    "df_all.groupby(['course_title','year']).get_group(('#BlackLivesMatter and Racial Justice',2015))"
   ]
  },
  {
   "cell_type": "markdown",
   "metadata": {},
   "source": [
    "\n",
    "* complicated data manipulations can be expressed in terms of GroupBy operations \n",
    "    * efficiency not guaranteed\n",
    "* by default the group keys are sorted during the groupby operation\n",
    "    * pass `sort=False` for potential speedups\n",
    "\n",
    "\n",
    "\n",
    "* once the GroupBy object has been created, several methods are available to perform a computation on the grouped data"
   ]
  },
  {
   "cell_type": "markdown",
   "metadata": {},
   "source": [
    "## Aggregating\n",
    "* the result of the aggregation will have the group names as the new index along the grouped axis\n",
    "* in the case of multiple keys $\\rightarrow$ the result is a MultiIndex by default, though this can be changed by using the as_index option:\n",
    "\n",
    "* Aggregating functions are the ones that reduce the dimension of the returned objects. Some common aggregating functions are tabulated below:\n",
    "`df.groupby('A').aggregate(np.sum)`\n",
    "\n",
    "* The aggregating functions above will exclude NA values. Any function which reduces a Series to a scalar value is an aggregation function and will work, a trivial example is df.groupby('A').agg(lambda ser: 1)\n",
    "    * aggregating multiple functions: pass a list/dict of functions to do aggregation\n",
    "    * the resulting aggregations are named for the functions themselves\n",
    "* By passing a dict to aggregate you can apply a different aggregation to the columns of a DataFrame\n",
    "`df.agg({'C': np.sum, 'D': lambda x: np.std(x, ddof=1)})`"
   ]
  },
  {
   "cell_type": "markdown",
   "metadata": {},
   "source": [
    "## Transformation \n",
    "\n",
    "* the `transform` method returns an object that is indexed the same (same size) as the one being grouped\n",
    "* suppose we wished to standardize the data within each group\n",
    "* the transform function must:\n",
    "    * return a result that is either the same size as the group chunk or broadcastable to the size of the group chunk (e.g., a scalar, `grouped.transform(lambda x: x.iloc[-1])`).\n",
    "    * operate column-by-column on the group chunk\n",
    "    * not perform in-place operations on the group chunk. Group chunks should be treated as immutable, and changes to a group chunk may produce unexpected results\n",
    "    * e.g. when using fillna, inplace must be False (grouped.transform(lambda x: x.fillna(inplace=False)))\n",
    "    \n",
    "Two major differences between apply and transform\n",
    "\n",
    "There are two major differences between the transform and apply groupby method:\n",
    "* apply implicitly passes all the columns for each group as a DataFrame to the custom function, while transform passes each column for each group as a Series to the custom function\n",
    "* the custom function passed to apply can return a scalar, or a Series or DataFrame (or numpy array or even list). The custom function passed to transform must return a sequence (a one dimensional Series, array or list) the same length as the group.\n"
   ]
  },
  {
   "cell_type": "code",
   "execution_count": 167,
   "metadata": {},
   "outputs": [
    {
     "data": {
      "text/plain": [
       "0      -0.219876\n",
       "1      -1.699041\n",
       "2            NaN\n",
       "3      -0.219876\n",
       "4       1.259289\n",
       "          ...   \n",
       "7525   -0.500039\n",
       "7526    1.071513\n",
       "7527   -0.500039\n",
       "7528   -0.500039\n",
       "7529    1.071513\n",
       "Name: q1, Length: 129668, dtype: float64"
      ]
     },
     "execution_count": 167,
     "metadata": {},
     "output_type": "execute_result"
    }
   ],
   "source": [
    "zscore = lambda x: (x - x.mean()) / x.std()\n",
    "df_all.dropna(subset=['course_title']).groupby('course_title')['q1'].transform(zscore)"
   ]
  },
  {
   "cell_type": "markdown",
   "metadata": {},
   "source": [
    "## Filtration\n",
    "\n",
    "* the filter methd returns a subset of the original object (only elements belonging to groups)\n",
    "    * alternatively, instead of dropping the offending groups, we can return a like-indexed objects where the groups that do not pass the filter are filled with NaNs.\n",
    "* for DataFrames with multiple columns, filters should explicitly specify a column as the filter criterion.\n",
    "* df.groupby('A').colname.std(). is more efficient than df.groupby('A').std().colname\n",
    "    * filtered before applying the aggregation function."
   ]
  },
  {
   "cell_type": "markdown",
   "metadata": {},
   "source": [
    "## Styling\n",
    "* more in [docs](https://pandas.pydata.org/pandas-docs/stable/user_guide/style.html)\n",
    "* styling is accomplished using CSS"
   ]
  },
  {
   "cell_type": "code",
   "execution_count": 150,
   "metadata": {},
   "outputs": [],
   "source": [
    "def highlight_max(s):\n",
    "    '''\n",
    "    highlight the maximum in a Series yellow.\n",
    "    '''\n",
    "    is_max = s == s.max()\n",
    "    return ['background-color: yellow' if v else '' for v in is_max]"
   ]
  },
  {
   "cell_type": "code",
   "execution_count": 151,
   "metadata": {},
   "outputs": [
    {
     "data": {
      "text/html": [
       "<style  type=\"text/css\" >\n",
       "    #T_5dd2aede_097a_11ea_b00a_107b445628ddrow0_col2 {\n",
       "            background-color:  yellow;\n",
       "        }    #T_5dd2aede_097a_11ea_b00a_107b445628ddrow0_col3 {\n",
       "            background-color:  yellow;\n",
       "        }    #T_5dd2aede_097a_11ea_b00a_107b445628ddrow0_col9 {\n",
       "            background-color:  yellow;\n",
       "        }    #T_5dd2aede_097a_11ea_b00a_107b445628ddrow0_col10 {\n",
       "            background-color:  yellow;\n",
       "        }    #T_5dd2aede_097a_11ea_b00a_107b445628ddrow0_col11 {\n",
       "            background-color:  yellow;\n",
       "        }    #T_5dd2aede_097a_11ea_b00a_107b445628ddrow1_col10 {\n",
       "            background-color:  yellow;\n",
       "        }    #T_5dd2aede_097a_11ea_b00a_107b445628ddrow1_col11 {\n",
       "            background-color:  yellow;\n",
       "        }    #T_5dd2aede_097a_11ea_b00a_107b445628ddrow2_col9 {\n",
       "            background-color:  yellow;\n",
       "        }    #T_5dd2aede_097a_11ea_b00a_107b445628ddrow3_col4 {\n",
       "            background-color:  yellow;\n",
       "        }    #T_5dd2aede_097a_11ea_b00a_107b445628ddrow3_col9 {\n",
       "            background-color:  yellow;\n",
       "        }    #T_5dd2aede_097a_11ea_b00a_107b445628ddrow3_col11 {\n",
       "            background-color:  yellow;\n",
       "        }    #T_5dd2aede_097a_11ea_b00a_107b445628ddrow4_col0 {\n",
       "            background-color:  yellow;\n",
       "        }    #T_5dd2aede_097a_11ea_b00a_107b445628ddrow4_col1 {\n",
       "            background-color:  yellow;\n",
       "        }    #T_5dd2aede_097a_11ea_b00a_107b445628ddrow4_col4 {\n",
       "            background-color:  yellow;\n",
       "        }    #T_5dd2aede_097a_11ea_b00a_107b445628ddrow4_col8 {\n",
       "            background-color:  yellow;\n",
       "        }    #T_5dd2aede_097a_11ea_b00a_107b445628ddrow4_col11 {\n",
       "            background-color:  yellow;\n",
       "        }    #T_5dd2aede_097a_11ea_b00a_107b445628ddrow4_col12 {\n",
       "            background-color:  yellow;\n",
       "        }</style><table id=\"T_5dd2aede_097a_11ea_b00a_107b445628dd\" ><thead>    <tr>        <th class=\"blank level0\" ></th>        <th class=\"col_heading level0 col0\" >q1</th>        <th class=\"col_heading level0 col1\" >q2</th>        <th class=\"col_heading level0 col2\" >q3</th>        <th class=\"col_heading level0 col3\" >q4</th>        <th class=\"col_heading level0 col4\" >q5</th>        <th class=\"col_heading level0 col5\" >q6</th>        <th class=\"col_heading level0 col6\" >q7</th>        <th class=\"col_heading level0 col7\" >q8</th>        <th class=\"col_heading level0 col8\" >q9</th>        <th class=\"col_heading level0 col9\" >q10</th>        <th class=\"col_heading level0 col10\" >q11</th>        <th class=\"col_heading level0 col11\" >q12</th>        <th class=\"col_heading level0 col12\" >q13</th>    </tr></thead><tbody>\n",
       "                <tr>\n",
       "                        <th id=\"T_5dd2aede_097a_11ea_b00a_107b445628ddlevel0_row0\" class=\"row_heading level0 row0\" >0</th>\n",
       "                        <td id=\"T_5dd2aede_097a_11ea_b00a_107b445628ddrow0_col0\" class=\"data row0 col0\" >4</td>\n",
       "                        <td id=\"T_5dd2aede_097a_11ea_b00a_107b445628ddrow0_col1\" class=\"data row0 col1\" >3</td>\n",
       "                        <td id=\"T_5dd2aede_097a_11ea_b00a_107b445628ddrow0_col2\" class=\"data row0 col2\" >5</td>\n",
       "                        <td id=\"T_5dd2aede_097a_11ea_b00a_107b445628ddrow0_col3\" class=\"data row0 col3\" >5</td>\n",
       "                        <td id=\"T_5dd2aede_097a_11ea_b00a_107b445628ddrow0_col4\" class=\"data row0 col4\" >4</td>\n",
       "                        <td id=\"T_5dd2aede_097a_11ea_b00a_107b445628ddrow0_col5\" class=\"data row0 col5\" >nan</td>\n",
       "                        <td id=\"T_5dd2aede_097a_11ea_b00a_107b445628ddrow0_col6\" class=\"data row0 col6\" >nan</td>\n",
       "                        <td id=\"T_5dd2aede_097a_11ea_b00a_107b445628ddrow0_col7\" class=\"data row0 col7\" >nan</td>\n",
       "                        <td id=\"T_5dd2aede_097a_11ea_b00a_107b445628ddrow0_col8\" class=\"data row0 col8\" >4</td>\n",
       "                        <td id=\"T_5dd2aede_097a_11ea_b00a_107b445628ddrow0_col9\" class=\"data row0 col9\" >4</td>\n",
       "                        <td id=\"T_5dd2aede_097a_11ea_b00a_107b445628ddrow0_col10\" class=\"data row0 col10\" >4</td>\n",
       "                        <td id=\"T_5dd2aede_097a_11ea_b00a_107b445628ddrow0_col11\" class=\"data row0 col11\" >4</td>\n",
       "                        <td id=\"T_5dd2aede_097a_11ea_b00a_107b445628ddrow0_col12\" class=\"data row0 col12\" >4</td>\n",
       "            </tr>\n",
       "            <tr>\n",
       "                        <th id=\"T_5dd2aede_097a_11ea_b00a_107b445628ddlevel0_row1\" class=\"row_heading level0 row1\" >1</th>\n",
       "                        <td id=\"T_5dd2aede_097a_11ea_b00a_107b445628ddrow1_col0\" class=\"data row1 col0\" >3</td>\n",
       "                        <td id=\"T_5dd2aede_097a_11ea_b00a_107b445628ddrow1_col1\" class=\"data row1 col1\" >3</td>\n",
       "                        <td id=\"T_5dd2aede_097a_11ea_b00a_107b445628ddrow1_col2\" class=\"data row1 col2\" >4</td>\n",
       "                        <td id=\"T_5dd2aede_097a_11ea_b00a_107b445628ddrow1_col3\" class=\"data row1 col3\" >4</td>\n",
       "                        <td id=\"T_5dd2aede_097a_11ea_b00a_107b445628ddrow1_col4\" class=\"data row1 col4\" >4</td>\n",
       "                        <td id=\"T_5dd2aede_097a_11ea_b00a_107b445628ddrow1_col5\" class=\"data row1 col5\" >nan</td>\n",
       "                        <td id=\"T_5dd2aede_097a_11ea_b00a_107b445628ddrow1_col6\" class=\"data row1 col6\" >nan</td>\n",
       "                        <td id=\"T_5dd2aede_097a_11ea_b00a_107b445628ddrow1_col7\" class=\"data row1 col7\" >nan</td>\n",
       "                        <td id=\"T_5dd2aede_097a_11ea_b00a_107b445628ddrow1_col8\" class=\"data row1 col8\" >nan</td>\n",
       "                        <td id=\"T_5dd2aede_097a_11ea_b00a_107b445628ddrow1_col9\" class=\"data row1 col9\" >3</td>\n",
       "                        <td id=\"T_5dd2aede_097a_11ea_b00a_107b445628ddrow1_col10\" class=\"data row1 col10\" >4</td>\n",
       "                        <td id=\"T_5dd2aede_097a_11ea_b00a_107b445628ddrow1_col11\" class=\"data row1 col11\" >4</td>\n",
       "                        <td id=\"T_5dd2aede_097a_11ea_b00a_107b445628ddrow1_col12\" class=\"data row1 col12\" >3</td>\n",
       "            </tr>\n",
       "            <tr>\n",
       "                        <th id=\"T_5dd2aede_097a_11ea_b00a_107b445628ddlevel0_row2\" class=\"row_heading level0 row2\" >2</th>\n",
       "                        <td id=\"T_5dd2aede_097a_11ea_b00a_107b445628ddrow2_col0\" class=\"data row2 col0\" >nan</td>\n",
       "                        <td id=\"T_5dd2aede_097a_11ea_b00a_107b445628ddrow2_col1\" class=\"data row2 col1\" >3</td>\n",
       "                        <td id=\"T_5dd2aede_097a_11ea_b00a_107b445628ddrow2_col2\" class=\"data row2 col2\" >4</td>\n",
       "                        <td id=\"T_5dd2aede_097a_11ea_b00a_107b445628ddrow2_col3\" class=\"data row2 col3\" >4</td>\n",
       "                        <td id=\"T_5dd2aede_097a_11ea_b00a_107b445628ddrow2_col4\" class=\"data row2 col4\" >3</td>\n",
       "                        <td id=\"T_5dd2aede_097a_11ea_b00a_107b445628ddrow2_col5\" class=\"data row2 col5\" >nan</td>\n",
       "                        <td id=\"T_5dd2aede_097a_11ea_b00a_107b445628ddrow2_col6\" class=\"data row2 col6\" >nan</td>\n",
       "                        <td id=\"T_5dd2aede_097a_11ea_b00a_107b445628ddrow2_col7\" class=\"data row2 col7\" >nan</td>\n",
       "                        <td id=\"T_5dd2aede_097a_11ea_b00a_107b445628ddrow2_col8\" class=\"data row2 col8\" >4</td>\n",
       "                        <td id=\"T_5dd2aede_097a_11ea_b00a_107b445628ddrow2_col9\" class=\"data row2 col9\" >4</td>\n",
       "                        <td id=\"T_5dd2aede_097a_11ea_b00a_107b445628ddrow2_col10\" class=\"data row2 col10\" >3</td>\n",
       "                        <td id=\"T_5dd2aede_097a_11ea_b00a_107b445628ddrow2_col11\" class=\"data row2 col11\" >3</td>\n",
       "                        <td id=\"T_5dd2aede_097a_11ea_b00a_107b445628ddrow2_col12\" class=\"data row2 col12\" >3</td>\n",
       "            </tr>\n",
       "            <tr>\n",
       "                        <th id=\"T_5dd2aede_097a_11ea_b00a_107b445628ddlevel0_row3\" class=\"row_heading level0 row3\" >3</th>\n",
       "                        <td id=\"T_5dd2aede_097a_11ea_b00a_107b445628ddrow3_col0\" class=\"data row3 col0\" >4</td>\n",
       "                        <td id=\"T_5dd2aede_097a_11ea_b00a_107b445628ddrow3_col1\" class=\"data row3 col1\" >3</td>\n",
       "                        <td id=\"T_5dd2aede_097a_11ea_b00a_107b445628ddrow3_col2\" class=\"data row3 col2\" >nan</td>\n",
       "                        <td id=\"T_5dd2aede_097a_11ea_b00a_107b445628ddrow3_col3\" class=\"data row3 col3\" >4</td>\n",
       "                        <td id=\"T_5dd2aede_097a_11ea_b00a_107b445628ddrow3_col4\" class=\"data row3 col4\" >5</td>\n",
       "                        <td id=\"T_5dd2aede_097a_11ea_b00a_107b445628ddrow3_col5\" class=\"data row3 col5\" >nan</td>\n",
       "                        <td id=\"T_5dd2aede_097a_11ea_b00a_107b445628ddrow3_col6\" class=\"data row3 col6\" >nan</td>\n",
       "                        <td id=\"T_5dd2aede_097a_11ea_b00a_107b445628ddrow3_col7\" class=\"data row3 col7\" >nan</td>\n",
       "                        <td id=\"T_5dd2aede_097a_11ea_b00a_107b445628ddrow3_col8\" class=\"data row3 col8\" >nan</td>\n",
       "                        <td id=\"T_5dd2aede_097a_11ea_b00a_107b445628ddrow3_col9\" class=\"data row3 col9\" >4</td>\n",
       "                        <td id=\"T_5dd2aede_097a_11ea_b00a_107b445628ddrow3_col10\" class=\"data row3 col10\" >3</td>\n",
       "                        <td id=\"T_5dd2aede_097a_11ea_b00a_107b445628ddrow3_col11\" class=\"data row3 col11\" >4</td>\n",
       "                        <td id=\"T_5dd2aede_097a_11ea_b00a_107b445628ddrow3_col12\" class=\"data row3 col12\" >4</td>\n",
       "            </tr>\n",
       "            <tr>\n",
       "                        <th id=\"T_5dd2aede_097a_11ea_b00a_107b445628ddlevel0_row4\" class=\"row_heading level0 row4\" >4</th>\n",
       "                        <td id=\"T_5dd2aede_097a_11ea_b00a_107b445628ddrow4_col0\" class=\"data row4 col0\" >5</td>\n",
       "                        <td id=\"T_5dd2aede_097a_11ea_b00a_107b445628ddrow4_col1\" class=\"data row4 col1\" >4</td>\n",
       "                        <td id=\"T_5dd2aede_097a_11ea_b00a_107b445628ddrow4_col2\" class=\"data row4 col2\" >4</td>\n",
       "                        <td id=\"T_5dd2aede_097a_11ea_b00a_107b445628ddrow4_col3\" class=\"data row4 col3\" >4</td>\n",
       "                        <td id=\"T_5dd2aede_097a_11ea_b00a_107b445628ddrow4_col4\" class=\"data row4 col4\" >5</td>\n",
       "                        <td id=\"T_5dd2aede_097a_11ea_b00a_107b445628ddrow4_col5\" class=\"data row4 col5\" >nan</td>\n",
       "                        <td id=\"T_5dd2aede_097a_11ea_b00a_107b445628ddrow4_col6\" class=\"data row4 col6\" >nan</td>\n",
       "                        <td id=\"T_5dd2aede_097a_11ea_b00a_107b445628ddrow4_col7\" class=\"data row4 col7\" >nan</td>\n",
       "                        <td id=\"T_5dd2aede_097a_11ea_b00a_107b445628ddrow4_col8\" class=\"data row4 col8\" >5</td>\n",
       "                        <td id=\"T_5dd2aede_097a_11ea_b00a_107b445628ddrow4_col9\" class=\"data row4 col9\" >3</td>\n",
       "                        <td id=\"T_5dd2aede_097a_11ea_b00a_107b445628ddrow4_col10\" class=\"data row4 col10\" >3</td>\n",
       "                        <td id=\"T_5dd2aede_097a_11ea_b00a_107b445628ddrow4_col11\" class=\"data row4 col11\" >4</td>\n",
       "                        <td id=\"T_5dd2aede_097a_11ea_b00a_107b445628ddrow4_col12\" class=\"data row4 col12\" >5</td>\n",
       "            </tr>\n",
       "    </tbody></table>"
      ],
      "text/plain": [
       "<pandas.io.formats.style.Styler at 0x7f8d868c9400>"
      ]
     },
     "execution_count": 151,
     "metadata": {},
     "output_type": "execute_result"
    }
   ],
   "source": [
    "df_q.head(5).style.apply(highlight_max)"
   ]
  },
  {
   "cell_type": "markdown",
   "metadata": {},
   "source": [
    "## Options and settings\n",
    "\n",
    "* pandas has an options system that lets you customize some aspects of its behaviour"
   ]
  },
  {
   "cell_type": "code",
   "execution_count": 171,
   "metadata": {},
   "outputs": [
    {
     "data": {
      "text/plain": [
       "['compute', 'display', 'io', 'mode', 'plotting']"
      ]
     },
     "execution_count": 171,
     "metadata": {},
     "output_type": "execute_result"
    }
   ],
   "source": [
    "dir(pd.options)"
   ]
  },
  {
   "cell_type": "code",
   "execution_count": 182,
   "metadata": {},
   "outputs": [
    {
     "data": {
      "text/plain": [
       "(['chop_threshold',\n",
       "  'colheader_justify',\n",
       "  'column_space',\n",
       "  'date_dayfirst',\n",
       "  'date_yearfirst',\n",
       "  'encoding',\n",
       "  'expand_frame_repr',\n",
       "  'float_format',\n",
       "  'html',\n",
       "  'large_repr',\n",
       "  'latex',\n",
       "  'max_categories',\n",
       "  'max_columns',\n",
       "  'max_colwidth',\n",
       "  'max_info_columns',\n",
       "  'max_info_rows',\n",
       "  'max_rows',\n",
       "  'max_seq_items',\n",
       "  'memory_usage',\n",
       "  'min_rows',\n",
       "  'multi_sparse',\n",
       "  'notebook_repr_html',\n",
       "  'pprint_nest_depth',\n",
       "  'precision',\n",
       "  'show_dimensions',\n",
       "  'unicode',\n",
       "  'width'],)"
      ]
     },
     "execution_count": 182,
     "metadata": {},
     "output_type": "execute_result"
    }
   ],
   "source": [
    "# example of display options\n",
    "dir(pd.options.display),"
   ]
  },
  {
   "cell_type": "code",
   "execution_count": 184,
   "metadata": {},
   "outputs": [
    {
     "data": {
      "text/plain": [
       "60"
      ]
     },
     "execution_count": 184,
     "metadata": {},
     "output_type": "execute_result"
    }
   ],
   "source": [
    "pd.get_option('display.max_rows')"
   ]
  },
  {
   "cell_type": "code",
   "execution_count": 195,
   "metadata": {},
   "outputs": [],
   "source": [
    "pd.set_option(\"display.max_rows\",3)"
   ]
  },
  {
   "cell_type": "code",
   "execution_count": 196,
   "metadata": {},
   "outputs": [
    {
     "data": {
      "text/html": [
       "<div>\n",
       "<style scoped>\n",
       "    .dataframe tbody tr th:only-of-type {\n",
       "        vertical-align: middle;\n",
       "    }\n",
       "\n",
       "    .dataframe tbody tr th {\n",
       "        vertical-align: top;\n",
       "    }\n",
       "\n",
       "    .dataframe thead th {\n",
       "        text-align: right;\n",
       "    }\n",
       "</style>\n",
       "<table border=\"1\" class=\"dataframe\">\n",
       "  <thead>\n",
       "    <tr style=\"text-align: right;\">\n",
       "      <th></th>\n",
       "      <th>number</th>\n",
       "      <th>course_code</th>\n",
       "      <th>course_title</th>\n",
       "      <th>teachers</th>\n",
       "      <th>seminar_leaders</th>\n",
       "      <th>q1</th>\n",
       "      <th>q2</th>\n",
       "      <th>q3</th>\n",
       "      <th>q4</th>\n",
       "      <th>q5</th>\n",
       "      <th>...</th>\n",
       "      <th>q9</th>\n",
       "      <th>q10</th>\n",
       "      <th>q11</th>\n",
       "      <th>q12</th>\n",
       "      <th>q13</th>\n",
       "      <th>c_value</th>\n",
       "      <th>c_improve</th>\n",
       "      <th>department_code</th>\n",
       "      <th>year</th>\n",
       "      <th>semester</th>\n",
       "    </tr>\n",
       "  </thead>\n",
       "  <tbody>\n",
       "    <tr>\n",
       "      <th>0</th>\n",
       "      <td>1</td>\n",
       "      <td>JSB119</td>\n",
       "      <td>Úvod do sociologie práce</td>\n",
       "      <td>Kuchař</td>\n",
       "      <td>NaN</td>\n",
       "      <td>4.0</td>\n",
       "      <td>3.0</td>\n",
       "      <td>5.0</td>\n",
       "      <td>5.0</td>\n",
       "      <td>4.0</td>\n",
       "      <td>...</td>\n",
       "      <td>4.0</td>\n",
       "      <td>4.0</td>\n",
       "      <td>4.0</td>\n",
       "      <td>4.0</td>\n",
       "      <td>4.0</td>\n",
       "      <td>NaN</td>\n",
       "      <td>NaN</td>\n",
       "      <td>ks</td>\n",
       "      <td>2012</td>\n",
       "      <td>zs</td>\n",
       "    </tr>\n",
       "    <tr>\n",
       "      <th>...</th>\n",
       "      <td>...</td>\n",
       "      <td>...</td>\n",
       "      <td>...</td>\n",
       "      <td>...</td>\n",
       "      <td>...</td>\n",
       "      <td>...</td>\n",
       "      <td>...</td>\n",
       "      <td>...</td>\n",
       "      <td>...</td>\n",
       "      <td>...</td>\n",
       "      <td>...</td>\n",
       "      <td>...</td>\n",
       "      <td>...</td>\n",
       "      <td>...</td>\n",
       "      <td>...</td>\n",
       "      <td>...</td>\n",
       "      <td>...</td>\n",
       "      <td>...</td>\n",
       "      <td>...</td>\n",
       "      <td>...</td>\n",
       "      <td>...</td>\n",
       "    </tr>\n",
       "    <tr>\n",
       "      <th>7529</th>\n",
       "      <td>26692</td>\n",
       "      <td>JPM574</td>\n",
       "      <td>Moderní strany a stranické systémy v Evropě</td>\n",
       "      <td>Brunclík</td>\n",
       "      <td>NaN</td>\n",
       "      <td>5.0</td>\n",
       "      <td>3.0</td>\n",
       "      <td>5.0</td>\n",
       "      <td>5.0</td>\n",
       "      <td>5.0</td>\n",
       "      <td>...</td>\n",
       "      <td>2.0</td>\n",
       "      <td>5.0</td>\n",
       "      <td>5.0</td>\n",
       "      <td>5.0</td>\n",
       "      <td>5.0</td>\n",
       "      <td>NaN</td>\n",
       "      <td>NaN</td>\n",
       "      <td>kp</td>\n",
       "      <td>2014</td>\n",
       "      <td>zs</td>\n",
       "    </tr>\n",
       "  </tbody>\n",
       "</table>\n",
       "<p>130242 rows × 23 columns</p>\n",
       "</div>"
      ],
      "text/plain": [
       "     number course_code                                 course_title  \\\n",
       "0         1      JSB119                     Úvod do sociologie práce   \n",
       "...     ...         ...                                          ...   \n",
       "7529  26692      JPM574  Moderní strany a stranické systémy v Evropě   \n",
       "\n",
       "      teachers seminar_leaders   q1   q2   q3   q4   q5  ...   q9  q10  q11  \\\n",
       "0       Kuchař             NaN  4.0  3.0  5.0  5.0  4.0  ...  4.0  4.0  4.0   \n",
       "...        ...             ...  ...  ...  ...  ...  ...  ...  ...  ...  ...   \n",
       "7529  Brunclík             NaN  5.0  3.0  5.0  5.0  5.0  ...  2.0  5.0  5.0   \n",
       "\n",
       "      q12  q13  c_value  c_improve  department_code  year semester  \n",
       "0     4.0  4.0      NaN        NaN               ks  2012       zs  \n",
       "...   ...  ...      ...        ...              ...   ...      ...  \n",
       "7529  5.0  5.0      NaN        NaN               kp  2014       zs  \n",
       "\n",
       "[130242 rows x 23 columns]"
      ]
     },
     "execution_count": 196,
     "metadata": {},
     "output_type": "execute_result"
    }
   ],
   "source": [
    "df_all"
   ]
  },
  {
   "cell_type": "code",
   "execution_count": 197,
   "metadata": {},
   "outputs": [],
   "source": [
    "pd.reset_option(\"display.max_rows\")"
   ]
  },
  {
   "cell_type": "markdown",
   "metadata": {},
   "source": [
    "##  Date handling\n",
    "* when working with time series, please look at the [docs](https://pandas.pydata.org/pandas-docs/stable/user_guide/timeseries.html) for proper date handling\n",
    "    * hint: no need to use strings \n",
    "* there is also common functionality of rolling and expanding windows already in place"
   ]
  },
  {
   "cell_type": "markdown",
   "metadata": {},
   "source": [
    "# Modules and Packages\n",
    "\n",
    "## Modules"
   ]
  },
  {
   "cell_type": "code",
   "execution_count": 1,
   "metadata": {},
   "outputs": [],
   "source": [
    "# what happens when we execute this statement?\n",
    "import lame_module as lame"
   ]
  },
  {
   "cell_type": "markdown",
   "metadata": {},
   "source": [
    "* [Interpreter](https://www.wikiwand.com/en/Interpreter_(computing)) searches for \"lame_module.py\" in a list of directories consisting of the following sources:\n",
    "    * current working directory (the current directory if run interactively)\n",
    "    * the list of directories contained in the PYTHONPATH environment variable (if set)\n",
    "    * list of directories configured at the time Python is installed (installation-dependent)\n"
   ]
  },
  {
   "cell_type": "code",
   "execution_count": 44,
   "metadata": {},
   "outputs": [
    {
     "data": {
      "text/plain": [
       "['C:\\\\Users\\\\Martin Hronec\\\\Projects\\\\phd\\\\DPP_IES\\\\08',\n",
       " 'C:\\\\Users\\\\Martin Hronec\\\\Miniconda3\\\\python37.zip',\n",
       " 'C:\\\\Users\\\\Martin Hronec\\\\Miniconda3\\\\DLLs',\n",
       " 'C:\\\\Users\\\\Martin Hronec\\\\Miniconda3\\\\lib',\n",
       " 'C:\\\\Users\\\\Martin Hronec\\\\Miniconda3',\n",
       " '',\n",
       " 'C:\\\\Users\\\\Martin Hronec\\\\Miniconda3\\\\lib\\\\site-packages',\n",
       " 'C:\\\\Users\\\\Martin Hronec\\\\Miniconda3\\\\lib\\\\site-packages\\\\win32',\n",
       " 'C:\\\\Users\\\\Martin Hronec\\\\Miniconda3\\\\lib\\\\site-packages\\\\win32\\\\lib',\n",
       " 'C:\\\\Users\\\\Martin Hronec\\\\Miniconda3\\\\lib\\\\site-packages\\\\Pythonwin',\n",
       " 'C:\\\\Users\\\\Martin Hronec\\\\Miniconda3\\\\lib\\\\site-packages\\\\pywin32_ctypes-0.2.0-py3.7.egg',\n",
       " 'C:\\\\Users\\\\Martin Hronec\\\\Miniconda3\\\\lib\\\\site-packages\\\\IPython\\\\extensions',\n",
       " 'C:\\\\Users\\\\Martin Hronec\\\\.ipython']"
      ]
     },
     "execution_count": 44,
     "metadata": {},
     "output_type": "execute_result"
    }
   ],
   "source": [
    "import sys\n",
    "# The exact contents of sys.path a|re installation-dependent. \n",
    "sys.path"
   ]
  },
  {
   "cell_type": "markdown",
   "metadata": {},
   "source": [
    "* To ensure your module is found, do one of the following:\n",
    "    * Put mod.py in the directory where the input script is located(see Vitek's code from the previous lecture)\n",
    "    * Add the directory where mod.py is located to the PYTHONPATH environment variable\n",
    "    * Put mod.py in one of the installation-dependent directories\n",
    "\n",
    "Additional option:"
   ]
  },
  {
   "cell_type": "code",
   "execution_count": 3,
   "metadata": {},
   "outputs": [
    {
     "data": {
      "text/plain": [
       "'C:\\\\Users\\\\Martin Hronec\\\\Projects\\\\phd\\\\DPP_IES\\\\08\\\\lame_module.py'"
      ]
     },
     "execution_count": 3,
     "metadata": {},
     "output_type": "execute_result"
    }
   ],
   "source": [
    "# put lame_module.py into that folder\n",
    "sys.path.append(r'XXX')\n",
    "import lame_module\n",
    "lame_module.__file__"
   ]
  },
  {
   "cell_type": "markdown",
   "metadata": {},
   "source": [
    "* We want to distinguish between when the file is loaded as a module and when it is run as a standalone script\n",
    "    * A .py file imported as a module: Python sets the special dunder variable __name__ to the name of the module\n",
    "    * A file run as a standalone script, __name__ is (creatively) set to the string '__main__'\n",
    "    \n",
    "* Modules often designed with the capability to run as a standalone script\n",
    "    *  we can test the functionality that is contained within the module, i.e. [unit testing](https://www.wikiwand.com/en/Unit_testing)"
   ]
  },
  {
   "cell_type": "markdown",
   "metadata": {},
   "source": [
    "## Packages\n",
    "\n",
    "* Allow for a hierarchical structuring of the module namespace using dot notation\n",
    "    * \n",
    "* Creating a package is easy, we can use the OS hierarchical file structure\n",
    "\n",
    "! If a file named `__init__.py` is present in a package directory, it is invoked when the package or a module in the package is imported ! "
   ]
  },
  {
   "cell_type": "code",
   "execution_count": 45,
   "metadata": {},
   "outputs": [],
   "source": [
    "import pkg"
   ]
  },
  {
   "cell_type": "code",
   "execution_count": 46,
   "metadata": {},
   "outputs": [
    {
     "data": {
      "text/plain": [
       "42"
      ]
     },
     "execution_count": 46,
     "metadata": {},
     "output_type": "execute_result"
    }
   ],
   "source": [
    "pkg.variable_from_init"
   ]
  },
  {
   "cell_type": "code",
   "execution_count": 47,
   "metadata": {},
   "outputs": [],
   "source": [
    "from pkg import module1"
   ]
  },
  {
   "cell_type": "markdown",
   "metadata": {},
   "source": [
    "* `__init__.py` can also be used to effect automatic importing of modules from a package\n",
    "\n",
    "* from Python 3.3, **Implicit Namespace Packages** introduced => no need for `__init__.py`"
   ]
  },
  {
   "cell_type": "markdown",
   "metadata": {},
   "source": [
    "## Packaging\n",
    "\n",
    "* easy to make your package installable\n",
    "    * from local repository\n",
    "    * from your github repository (you can share!)\n",
    "    * from the [the python package index (PYPI)](https://pypi.org/) \n",
    "\n",
    "* to make ies_scraper you've seen during the previous lecture, you could follow next steps:\n",
    "\n",
    "* let's modify setup.py to configure our package\n",
    "\n",
    "`\n",
    "from setuptools import setup \n",
    "setup(\n",
    "    name='ies_scraper',\n",
    "    version='0.0.1',\n",
    "    description='Offers set of tools for scraping IES website.',\n",
    "    url='git@github.com:martinhronec/ies_scraper.git',\n",
    "    author='Vit Machacek',\n",
    "    author_email= 'vit.machacek@cerge-ei.cz',\n",
    "    license='unlicense'\n",
    "    )\n",
    "`\n",
    "* we can then push our changes to our remote github repo\n",
    "\n",
    "`git remote add origin git@github.com:martinhronec/ies_scraper.git`\n",
    "\n",
    "`git push -u origin master`\n",
    "\n",
    "* if we want to install package (2 options):\n",
    "    * clone remote repo locally, then inside the cloned repository write `pip install .`\n",
    "        * follow with `pip show ies_scraper` to see that package was successfuly installed\n",
    "    * write in cmd: `pip install git+https://github.com/user/repository/archive/branch.zip`\n",
    "\n",
    "* FOR YOU: Add functionality of IES_downloader.py and IES_pages.py to our ies_scraper package"
   ]
  },
  {
   "cell_type": "code",
   "execution_count": null,
   "metadata": {},
   "outputs": [],
   "source": []
  },
  {
   "cell_type": "code",
   "execution_count": null,
   "metadata": {},
   "outputs": [],
   "source": []
  }
 ],
 "metadata": {
  "kernelspec": {
   "display_name": "Python 3",
   "language": "python",
   "name": "python3"
  },
  "language_info": {
   "codemirror_mode": {
    "name": "ipython",
    "version": 3
   },
   "file_extension": ".py",
   "mimetype": "text/x-python",
   "name": "python",
   "nbconvert_exporter": "python",
   "pygments_lexer": "ipython3",
   "version": "3.7.3"
  }
 },
 "nbformat": 4,
 "nbformat_minor": 4
}
